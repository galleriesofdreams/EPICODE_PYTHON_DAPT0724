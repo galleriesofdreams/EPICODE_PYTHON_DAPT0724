{
 "cells": [
  {
   "cell_type": "markdown",
   "id": "de0ccdde-5519-4c09-9abc-3808155e2bd1",
   "metadata": {},
   "source": [
    "**Esercizio 1/3** Estraiamo la tabella dimproduct dal database AdventureWorks, e valutiamo quanto segue: \n",
    "\n",
    "• Quanti dati ci sono in totale? \n",
    "\n",
    "• Quali sono i metadati? \n",
    "\n",
    "• Stampiamo il primo elemento \n",
    "\n",
    "• Stampiamo l'ultimo elemento \n",
    "\n",
    "• Riusciamo a stampare cinque elementi a caso? \n",
    "\n",
    "• Quali sono i colori disponibili?"
   ]
  },
  {
   "cell_type": "code",
   "execution_count": 8,
   "id": "0ceed90a-bb9a-4806-a060-97feb90c6377",
   "metadata": {},
   "outputs": [],
   "source": [
    "import os\n",
    "import dotenv\n",
    "import sqlalchemy\n",
    "import pandas as pd\n",
    "dotenv.load_dotenv(override=True, dotenv_path= r\"C:\\Users\\patri\\OneDrive\\Documents\\Epicode Data Analyst\\Modulo 3 - Python\\W10D1\\.env\") \n",
    "\n",
    "username = os.getenv(\"username\") \n",
    "password = os.getenv(\"password\") \n",
    "host = os.getenv(\"host\") \n",
    "dbname = os.getenv(\"dbname\") \n",
    "connection_string = \"mysql+pymysql://\"+username+\":\"+password+\"@\"+host+\"/\"+dbname\n",
    "\n",
    "db_engine = sqlalchemy.create_engine(connection_string)"
   ]
  },
  {
   "cell_type": "code",
   "execution_count": 24,
   "id": "121f6ad4-736c-43f1-b096-a9394a5a1463",
   "metadata": {},
   "outputs": [
    {
     "data": {
      "text/plain": [
       "(606, 36)"
      ]
     },
     "execution_count": 24,
     "metadata": {},
     "output_type": "execute_result"
    }
   ],
   "source": [
    "query = \"SELECT * FROM dimproduct\" \n",
    "df = pd.read_sql(query, db_engine) \n",
    "df.shape ##ritorna il numero di righe e di colonne presenti nel dataframe"
   ]
  },
  {
   "cell_type": "code",
   "execution_count": 20,
   "id": "07053e2f-ab59-4750-8607-41e2bd3841a8",
   "metadata": {},
   "outputs": [
    {
     "data": {
      "text/plain": [
       "RangeIndex(start=0, stop=606, step=1)"
      ]
     },
     "execution_count": 20,
     "metadata": {},
     "output_type": "execute_result"
    }
   ],
   "source": [
    "df.index ##ritorna il metadato indice delle righe"
   ]
  },
  {
   "cell_type": "code",
   "execution_count": 22,
   "id": "a4c2b299-e8bb-47c4-aafe-9c256dc4b1f6",
   "metadata": {},
   "outputs": [
    {
     "data": {
      "text/plain": [
       "Index(['ProductKey', 'ProductAlternateKey', 'ProductSubcategoryKey',\n",
       "       'WeightUnitMeasureCode', 'SizeUnitMeasureCode', 'EnglishProductName',\n",
       "       'SpanishProductName', 'FrenchProductName', 'StandardCost',\n",
       "       'FinishedGoodsFlag', 'Color', 'SafetyStockLevel', 'ReorderPoint',\n",
       "       'ListPrice', 'Size', 'SizeRange', 'Weight', 'DaysToManufacture',\n",
       "       'ProductLine', 'DealerPrice', 'Class', 'Style', 'ModelName',\n",
       "       'LargePhoto', 'EnglishDescription', 'FrenchDescription',\n",
       "       'ChineseDescription', 'ArabicDescription', 'HebrewDescription',\n",
       "       'ThaiDescription', 'GermanDescription', 'JapaneseDescription',\n",
       "       'TurkishDescription', 'StartDate', 'EndDate', 'Status'],\n",
       "      dtype='object')"
      ]
     },
     "execution_count": 22,
     "metadata": {},
     "output_type": "execute_result"
    }
   ],
   "source": [
    "df.columns ##ritorna il metadato nomi delle colonne"
   ]
  },
  {
   "cell_type": "code",
   "execution_count": 28,
   "id": "e60c611b-af8b-4151-93e6-c3fbaf947ec6",
   "metadata": {},
   "outputs": [
    {
     "data": {
      "text/html": [
       "<div>\n",
       "<style scoped>\n",
       "    .dataframe tbody tr th:only-of-type {\n",
       "        vertical-align: middle;\n",
       "    }\n",
       "\n",
       "    .dataframe tbody tr th {\n",
       "        vertical-align: top;\n",
       "    }\n",
       "\n",
       "    .dataframe thead th {\n",
       "        text-align: right;\n",
       "    }\n",
       "</style>\n",
       "<table border=\"1\" class=\"dataframe\">\n",
       "  <thead>\n",
       "    <tr style=\"text-align: right;\">\n",
       "      <th></th>\n",
       "      <th>ProductKey</th>\n",
       "      <th>ProductAlternateKey</th>\n",
       "      <th>ProductSubcategoryKey</th>\n",
       "      <th>WeightUnitMeasureCode</th>\n",
       "      <th>SizeUnitMeasureCode</th>\n",
       "      <th>EnglishProductName</th>\n",
       "      <th>SpanishProductName</th>\n",
       "      <th>FrenchProductName</th>\n",
       "      <th>StandardCost</th>\n",
       "      <th>FinishedGoodsFlag</th>\n",
       "      <th>...</th>\n",
       "      <th>ChineseDescription</th>\n",
       "      <th>ArabicDescription</th>\n",
       "      <th>HebrewDescription</th>\n",
       "      <th>ThaiDescription</th>\n",
       "      <th>GermanDescription</th>\n",
       "      <th>JapaneseDescription</th>\n",
       "      <th>TurkishDescription</th>\n",
       "      <th>StartDate</th>\n",
       "      <th>EndDate</th>\n",
       "      <th>Status</th>\n",
       "    </tr>\n",
       "  </thead>\n",
       "  <tbody>\n",
       "    <tr>\n",
       "      <th>0</th>\n",
       "      <td>1</td>\n",
       "      <td>AR-5381</td>\n",
       "      <td>NaN</td>\n",
       "      <td>None</td>\n",
       "      <td>None</td>\n",
       "      <td>Adjustable Race</td>\n",
       "      <td></td>\n",
       "      <td></td>\n",
       "      <td>NaN</td>\n",
       "      <td>0</td>\n",
       "      <td>...</td>\n",
       "      <td>None</td>\n",
       "      <td>None</td>\n",
       "      <td>None</td>\n",
       "      <td>None</td>\n",
       "      <td>None</td>\n",
       "      <td>None</td>\n",
       "      <td>None</td>\n",
       "      <td>2003-07-01</td>\n",
       "      <td>NaT</td>\n",
       "      <td>Current</td>\n",
       "    </tr>\n",
       "  </tbody>\n",
       "</table>\n",
       "<p>1 rows × 36 columns</p>\n",
       "</div>"
      ],
      "text/plain": [
       "   ProductKey ProductAlternateKey  ProductSubcategoryKey  \\\n",
       "0           1             AR-5381                    NaN   \n",
       "\n",
       "  WeightUnitMeasureCode SizeUnitMeasureCode EnglishProductName  \\\n",
       "0                  None                None    Adjustable Race   \n",
       "\n",
       "  SpanishProductName FrenchProductName  StandardCost  FinishedGoodsFlag  ...  \\\n",
       "0                                                NaN                  0  ...   \n",
       "\n",
       "  ChineseDescription  ArabicDescription  HebrewDescription  ThaiDescription  \\\n",
       "0               None               None               None             None   \n",
       "\n",
       "  GermanDescription JapaneseDescription  TurkishDescription  StartDate  \\\n",
       "0              None                None                None 2003-07-01   \n",
       "\n",
       "  EndDate   Status  \n",
       "0     NaT  Current  \n",
       "\n",
       "[1 rows x 36 columns]"
      ]
     },
     "execution_count": 28,
     "metadata": {},
     "output_type": "execute_result"
    }
   ],
   "source": [
    "df.head(1) #Stampiamo il primo elemento"
   ]
  },
  {
   "cell_type": "code",
   "execution_count": 30,
   "id": "2f0673a9-504f-40a8-8c11-a4524522a0f3",
   "metadata": {},
   "outputs": [
    {
     "data": {
      "text/html": [
       "<div>\n",
       "<style scoped>\n",
       "    .dataframe tbody tr th:only-of-type {\n",
       "        vertical-align: middle;\n",
       "    }\n",
       "\n",
       "    .dataframe tbody tr th {\n",
       "        vertical-align: top;\n",
       "    }\n",
       "\n",
       "    .dataframe thead th {\n",
       "        text-align: right;\n",
       "    }\n",
       "</style>\n",
       "<table border=\"1\" class=\"dataframe\">\n",
       "  <thead>\n",
       "    <tr style=\"text-align: right;\">\n",
       "      <th></th>\n",
       "      <th>ProductKey</th>\n",
       "      <th>ProductAlternateKey</th>\n",
       "      <th>ProductSubcategoryKey</th>\n",
       "      <th>WeightUnitMeasureCode</th>\n",
       "      <th>SizeUnitMeasureCode</th>\n",
       "      <th>EnglishProductName</th>\n",
       "      <th>SpanishProductName</th>\n",
       "      <th>FrenchProductName</th>\n",
       "      <th>StandardCost</th>\n",
       "      <th>FinishedGoodsFlag</th>\n",
       "      <th>...</th>\n",
       "      <th>ChineseDescription</th>\n",
       "      <th>ArabicDescription</th>\n",
       "      <th>HebrewDescription</th>\n",
       "      <th>ThaiDescription</th>\n",
       "      <th>GermanDescription</th>\n",
       "      <th>JapaneseDescription</th>\n",
       "      <th>TurkishDescription</th>\n",
       "      <th>StartDate</th>\n",
       "      <th>EndDate</th>\n",
       "      <th>Status</th>\n",
       "    </tr>\n",
       "  </thead>\n",
       "  <tbody>\n",
       "    <tr>\n",
       "      <th>605</th>\n",
       "      <td>606</td>\n",
       "      <td>BK-R19B-52</td>\n",
       "      <td>2.0</td>\n",
       "      <td>LB</td>\n",
       "      <td>CM</td>\n",
       "      <td>Road-750 Black, 52</td>\n",
       "      <td>Carretera: 750, negra, 52</td>\n",
       "      <td>Vélo de route 750 noir, 52</td>\n",
       "      <td>343.65</td>\n",
       "      <td>1</td>\n",
       "      <td>...</td>\n",
       "      <td>入门级成人自行车；确保越野旅行或公路骑乘的舒适。快拆式车毂和轮缘。</td>\n",
       "      <td>إنها دراجة مناسبة للمبتدئين من البالغين؛ فهي ت...</td>\n",
       "      <td>אופני מבוגרים למתחילים; מציעים רכיבה נוחה \"מחו...</td>\n",
       "      <td>จักรยานระดับเริ่มต้นสำหรับผู้ใหญ่ ให้ความสบายใ...</td>\n",
       "      <td>Ein Erwachsenenrad für Einsteiger; bietet Komf...</td>\n",
       "      <td>エントリー レベルに対応する、クロスカントリーにも街への買い物にも快適な、大人の自転車。ハブ...</td>\n",
       "      <td>\"Başlangıç seviyesinde yetişkin bisikleti, kır...</td>\n",
       "      <td>2013-07-01</td>\n",
       "      <td>NaT</td>\n",
       "      <td>Current</td>\n",
       "    </tr>\n",
       "  </tbody>\n",
       "</table>\n",
       "<p>1 rows × 36 columns</p>\n",
       "</div>"
      ],
      "text/plain": [
       "     ProductKey ProductAlternateKey  ProductSubcategoryKey  \\\n",
       "605         606          BK-R19B-52                    2.0   \n",
       "\n",
       "    WeightUnitMeasureCode SizeUnitMeasureCode  EnglishProductName  \\\n",
       "605                    LB                  CM  Road-750 Black, 52   \n",
       "\n",
       "            SpanishProductName           FrenchProductName  StandardCost  \\\n",
       "605  Carretera: 750, negra, 52  Vélo de route 750 noir, 52        343.65   \n",
       "\n",
       "     FinishedGoodsFlag  ...                 ChineseDescription  \\\n",
       "605                  1  ...  入门级成人自行车；确保越野旅行或公路骑乘的舒适。快拆式车毂和轮缘。   \n",
       "\n",
       "                                     ArabicDescription  \\\n",
       "605  إنها دراجة مناسبة للمبتدئين من البالغين؛ فهي ت...   \n",
       "\n",
       "                                     HebrewDescription  \\\n",
       "605  אופני מבוגרים למתחילים; מציעים רכיבה נוחה \"מחו...   \n",
       "\n",
       "                                       ThaiDescription  \\\n",
       "605  จักรยานระดับเริ่มต้นสำหรับผู้ใหญ่ ให้ความสบายใ...   \n",
       "\n",
       "                                     GermanDescription  \\\n",
       "605  Ein Erwachsenenrad für Einsteiger; bietet Komf...   \n",
       "\n",
       "                                   JapaneseDescription  \\\n",
       "605  エントリー レベルに対応する、クロスカントリーにも街への買い物にも快適な、大人の自転車。ハブ...   \n",
       "\n",
       "                                    TurkishDescription  StartDate EndDate  \\\n",
       "605  \"Başlangıç seviyesinde yetişkin bisikleti, kır... 2013-07-01     NaT   \n",
       "\n",
       "      Status  \n",
       "605  Current  \n",
       "\n",
       "[1 rows x 36 columns]"
      ]
     },
     "execution_count": 30,
     "metadata": {},
     "output_type": "execute_result"
    }
   ],
   "source": [
    "df.tail(1) #Stampiamo l'ultimo elemento"
   ]
  },
  {
   "cell_type": "code",
   "execution_count": 32,
   "id": "853a0b74-7951-4f9f-90b3-e6f01ff04ca9",
   "metadata": {},
   "outputs": [
    {
     "data": {
      "text/html": [
       "<div>\n",
       "<style scoped>\n",
       "    .dataframe tbody tr th:only-of-type {\n",
       "        vertical-align: middle;\n",
       "    }\n",
       "\n",
       "    .dataframe tbody tr th {\n",
       "        vertical-align: top;\n",
       "    }\n",
       "\n",
       "    .dataframe thead th {\n",
       "        text-align: right;\n",
       "    }\n",
       "</style>\n",
       "<table border=\"1\" class=\"dataframe\">\n",
       "  <thead>\n",
       "    <tr style=\"text-align: right;\">\n",
       "      <th></th>\n",
       "      <th>ProductKey</th>\n",
       "      <th>ProductAlternateKey</th>\n",
       "      <th>ProductSubcategoryKey</th>\n",
       "      <th>WeightUnitMeasureCode</th>\n",
       "      <th>SizeUnitMeasureCode</th>\n",
       "      <th>EnglishProductName</th>\n",
       "      <th>SpanishProductName</th>\n",
       "      <th>FrenchProductName</th>\n",
       "      <th>StandardCost</th>\n",
       "      <th>FinishedGoodsFlag</th>\n",
       "      <th>...</th>\n",
       "      <th>ChineseDescription</th>\n",
       "      <th>ArabicDescription</th>\n",
       "      <th>HebrewDescription</th>\n",
       "      <th>ThaiDescription</th>\n",
       "      <th>GermanDescription</th>\n",
       "      <th>JapaneseDescription</th>\n",
       "      <th>TurkishDescription</th>\n",
       "      <th>StartDate</th>\n",
       "      <th>EndDate</th>\n",
       "      <th>Status</th>\n",
       "    </tr>\n",
       "  </thead>\n",
       "  <tbody>\n",
       "    <tr>\n",
       "      <th>431</th>\n",
       "      <td>432</td>\n",
       "      <td>FR-R72Y-42</td>\n",
       "      <td>14.0</td>\n",
       "      <td>LB</td>\n",
       "      <td>CM</td>\n",
       "      <td>ML Road Frame-W - Yellow, 42</td>\n",
       "      <td>Cuadro de carretera para mujer GM: amarillo, 42</td>\n",
       "      <td>Cadre de route ML -W - jaune, 42</td>\n",
       "      <td>360.94</td>\n",
       "      <td>1</td>\n",
       "      <td>...</td>\n",
       "      <td>ML 车架使用与我们的高档 HL 车架完全相同的铝合金，它的特征是轻型下管经过磨制达到最佳口...</td>\n",
       "      <td>يحتوي هيكل ML على أنبوبة سفلية خفيف الوزن تم ت...</td>\n",
       "      <td>מסגרת ה- ML, העשויה סגסוגת אלומיניום זהה לזו ה...</td>\n",
       "      <td>สร้างจากอลูมิเนียมอัลลอยชนิดเดียวกับสุดยอดเฟรม...</td>\n",
       "      <td>Der ML-Rahmen ist aus der gleichen Aluminiumle...</td>\n",
       "      <td>当社の最高級 HL フレームと同じアルミニウム合金で作られた ML は、完璧なダウンチューブ...</td>\n",
       "      <td>\"HL kadroyla aynı alüminyum alaşımından imal e...</td>\n",
       "      <td>2013-07-01</td>\n",
       "      <td>NaT</td>\n",
       "      <td>Current</td>\n",
       "    </tr>\n",
       "    <tr>\n",
       "      <th>27</th>\n",
       "      <td>28</td>\n",
       "      <td>FW-5800</td>\n",
       "      <td>NaN</td>\n",
       "      <td>None</td>\n",
       "      <td>None</td>\n",
       "      <td>Flat Washer 8</td>\n",
       "      <td></td>\n",
       "      <td></td>\n",
       "      <td>NaN</td>\n",
       "      <td>0</td>\n",
       "      <td>...</td>\n",
       "      <td>None</td>\n",
       "      <td>None</td>\n",
       "      <td>None</td>\n",
       "      <td>None</td>\n",
       "      <td>None</td>\n",
       "      <td>None</td>\n",
       "      <td>None</td>\n",
       "      <td>2003-07-01</td>\n",
       "      <td>NaT</td>\n",
       "      <td>Current</td>\n",
       "    </tr>\n",
       "    <tr>\n",
       "      <th>401</th>\n",
       "      <td>402</td>\n",
       "      <td>HB-M918</td>\n",
       "      <td>4.0</td>\n",
       "      <td>None</td>\n",
       "      <td>None</td>\n",
       "      <td>HL Mountain Handlebars</td>\n",
       "      <td></td>\n",
       "      <td></td>\n",
       "      <td>53.40</td>\n",
       "      <td>1</td>\n",
       "      <td>...</td>\n",
       "      <td>平头车把异常坚固，足可用于专业巡回赛。</td>\n",
       "      <td>قضيب قيادة مسطح وقوي بدرجة كافية لجولات المحتر...</td>\n",
       "      <td>ידית שטוחה החזקה מספיק עבור הרוכב המקצועי.</td>\n",
       "      <td>คันบังคับแบน แข็งแรงพอสำหรับสนามโปรเซอร์กิต</td>\n",
       "      <td>Die breite Stange ist stark genug für Profis.</td>\n",
       "      <td>プロ サーキットにも十分な強度を持つフラット バー。</td>\n",
       "      <td>Profesyoneller için yeterince güçlü düz boru.</td>\n",
       "      <td>2013-07-01</td>\n",
       "      <td>NaT</td>\n",
       "      <td>Current</td>\n",
       "    </tr>\n",
       "    <tr>\n",
       "      <th>510</th>\n",
       "      <td>511</td>\n",
       "      <td>FR-M63S-40</td>\n",
       "      <td>12.0</td>\n",
       "      <td>LB</td>\n",
       "      <td>CM</td>\n",
       "      <td>ML Mountain Frame-W - Silver, 40</td>\n",
       "      <td></td>\n",
       "      <td></td>\n",
       "      <td>199.38</td>\n",
       "      <td>1</td>\n",
       "      <td>...</td>\n",
       "      <td>ML 车架是经过热处理的铝制车架，它的细节设计和质量与 HL 车架完全相同。它的性能卓越。属...</td>\n",
       "      <td>إن هيكل ML هو هيكل مصنوع من الألومنيوم مُعالج ...</td>\n",
       "      <td>מסגרת ה- ML היא מסגרת אלומיניום מוקשח בחום המי...</td>\n",
       "      <td>เฟรม ML เป็นเฟรมอลูมิเนียมผ่านความร้อน สร้างอย...</td>\n",
       "      <td>Der ML-Rahmen ist ein hitzebehandelter Alumini...</td>\n",
       "      <td>ML フレームは、HL フレームと同等の細部および品質を持つ熱処理アルミニウム フレームであ...</td>\n",
       "      <td>HL kadroyla aynı detaylara ve kaliteye sahip o...</td>\n",
       "      <td>2013-07-01</td>\n",
       "      <td>NaT</td>\n",
       "      <td>Current</td>\n",
       "    </tr>\n",
       "    <tr>\n",
       "      <th>544</th>\n",
       "      <td>545</td>\n",
       "      <td>PD-R347</td>\n",
       "      <td>13.0</td>\n",
       "      <td>G</td>\n",
       "      <td>None</td>\n",
       "      <td>LL Road Pedal</td>\n",
       "      <td>Pedal de carretera GB</td>\n",
       "      <td>Pédale de vélo de route LL</td>\n",
       "      <td>17.98</td>\n",
       "      <td>1</td>\n",
       "      <td>...</td>\n",
       "      <td>无扣带式脚踏 – 铝制。</td>\n",
       "      <td>دواستان بلا مشابك مصنوعتان من الألومنيوم.</td>\n",
       "      <td>דוושות ללא חבקים – אלומיניום.</td>\n",
       "      <td>คันถีบไม่มีคลิป - อลูมิเนียม</td>\n",
       "      <td>Pedale ohne Pedalhaken - Aluminium.</td>\n",
       "      <td>クリップレス ペダル (アルミニウム)。</td>\n",
       "      <td>Klipssiz pedallar - alüminyum.</td>\n",
       "      <td>2013-07-01</td>\n",
       "      <td>NaT</td>\n",
       "      <td>Current</td>\n",
       "    </tr>\n",
       "  </tbody>\n",
       "</table>\n",
       "<p>5 rows × 36 columns</p>\n",
       "</div>"
      ],
      "text/plain": [
       "     ProductKey ProductAlternateKey  ProductSubcategoryKey  \\\n",
       "431         432          FR-R72Y-42                   14.0   \n",
       "27           28             FW-5800                    NaN   \n",
       "401         402             HB-M918                    4.0   \n",
       "510         511          FR-M63S-40                   12.0   \n",
       "544         545             PD-R347                   13.0   \n",
       "\n",
       "    WeightUnitMeasureCode SizeUnitMeasureCode  \\\n",
       "431                    LB                  CM   \n",
       "27                   None                None   \n",
       "401                  None                None   \n",
       "510                    LB                  CM   \n",
       "544                     G                None   \n",
       "\n",
       "                   EnglishProductName  \\\n",
       "431      ML Road Frame-W - Yellow, 42   \n",
       "27                      Flat Washer 8   \n",
       "401            HL Mountain Handlebars   \n",
       "510  ML Mountain Frame-W - Silver, 40   \n",
       "544                     LL Road Pedal   \n",
       "\n",
       "                                  SpanishProductName  \\\n",
       "431  Cuadro de carretera para mujer GM: amarillo, 42   \n",
       "27                                                     \n",
       "401                                                    \n",
       "510                                                    \n",
       "544                            Pedal de carretera GB   \n",
       "\n",
       "                    FrenchProductName  StandardCost  FinishedGoodsFlag  ...  \\\n",
       "431  Cadre de route ML -W - jaune, 42        360.94                  1  ...   \n",
       "27                                              NaN                  0  ...   \n",
       "401                                           53.40                  1  ...   \n",
       "510                                          199.38                  1  ...   \n",
       "544        Pédale de vélo de route LL         17.98                  1  ...   \n",
       "\n",
       "                                    ChineseDescription  \\\n",
       "431  ML 车架使用与我们的高档 HL 车架完全相同的铝合金，它的特征是轻型下管经过磨制达到最佳口...   \n",
       "27                                                None   \n",
       "401                                平头车把异常坚固，足可用于专业巡回赛。   \n",
       "510  ML 车架是经过热处理的铝制车架，它的细节设计和质量与 HL 车架完全相同。它的性能卓越。属...   \n",
       "544                                       无扣带式脚踏 – 铝制。   \n",
       "\n",
       "                                     ArabicDescription  \\\n",
       "431  يحتوي هيكل ML على أنبوبة سفلية خفيف الوزن تم ت...   \n",
       "27                                                None   \n",
       "401  قضيب قيادة مسطح وقوي بدرجة كافية لجولات المحتر...   \n",
       "510  إن هيكل ML هو هيكل مصنوع من الألومنيوم مُعالج ...   \n",
       "544          دواستان بلا مشابك مصنوعتان من الألومنيوم.   \n",
       "\n",
       "                                     HebrewDescription  \\\n",
       "431  מסגרת ה- ML, העשויה סגסוגת אלומיניום זהה לזו ה...   \n",
       "27                                                None   \n",
       "401         ידית שטוחה החזקה מספיק עבור הרוכב המקצועי.   \n",
       "510  מסגרת ה- ML היא מסגרת אלומיניום מוקשח בחום המי...   \n",
       "544                      דוושות ללא חבקים – אלומיניום.   \n",
       "\n",
       "                                       ThaiDescription  \\\n",
       "431  สร้างจากอลูมิเนียมอัลลอยชนิดเดียวกับสุดยอดเฟรม...   \n",
       "27                                                None   \n",
       "401        คันบังคับแบน แข็งแรงพอสำหรับสนามโปรเซอร์กิต   \n",
       "510  เฟรม ML เป็นเฟรมอลูมิเนียมผ่านความร้อน สร้างอย...   \n",
       "544                       คันถีบไม่มีคลิป - อลูมิเนียม   \n",
       "\n",
       "                                     GermanDescription  \\\n",
       "431  Der ML-Rahmen ist aus der gleichen Aluminiumle...   \n",
       "27                                                None   \n",
       "401      Die breite Stange ist stark genug für Profis.   \n",
       "510  Der ML-Rahmen ist ein hitzebehandelter Alumini...   \n",
       "544                Pedale ohne Pedalhaken - Aluminium.   \n",
       "\n",
       "                                   JapaneseDescription  \\\n",
       "431  当社の最高級 HL フレームと同じアルミニウム合金で作られた ML は、完璧なダウンチューブ...   \n",
       "27                                                None   \n",
       "401                         プロ サーキットにも十分な強度を持つフラット バー。   \n",
       "510  ML フレームは、HL フレームと同等の細部および品質を持つ熱処理アルミニウム フレームであ...   \n",
       "544                               クリップレス ペダル (アルミニウム)。   \n",
       "\n",
       "                                    TurkishDescription  StartDate EndDate  \\\n",
       "431  \"HL kadroyla aynı alüminyum alaşımından imal e... 2013-07-01     NaT   \n",
       "27                                                None 2003-07-01     NaT   \n",
       "401      Profesyoneller için yeterince güçlü düz boru. 2013-07-01     NaT   \n",
       "510  HL kadroyla aynı detaylara ve kaliteye sahip o... 2013-07-01     NaT   \n",
       "544                     Klipssiz pedallar - alüminyum. 2013-07-01     NaT   \n",
       "\n",
       "      Status  \n",
       "431  Current  \n",
       "27   Current  \n",
       "401  Current  \n",
       "510  Current  \n",
       "544  Current  \n",
       "\n",
       "[5 rows x 36 columns]"
      ]
     },
     "execution_count": 32,
     "metadata": {},
     "output_type": "execute_result"
    }
   ],
   "source": [
    "df.sample(5) #Riusciamo a stampare cinque elementi a caso?"
   ]
  },
  {
   "cell_type": "code",
   "execution_count": 36,
   "id": "d0fdbdaa-b459-4ff4-bc42-7250fe8097d5",
   "metadata": {},
   "outputs": [
    {
     "data": {
      "text/plain": [
       "array(['NA', 'Black', 'Silver', 'Red', 'White', 'Blue', 'Multi', 'Yellow',\n",
       "       'Grey', 'Silver/Black'], dtype=object)"
      ]
     },
     "execution_count": 36,
     "metadata": {},
     "output_type": "execute_result"
    }
   ],
   "source": [
    "df[\"Color\"].unique() #Quali sono i colori disponibili?"
   ]
  },
  {
   "cell_type": "markdown",
   "id": "b92a6356-4d11-4834-9d2a-9b646096c93f",
   "metadata": {},
   "source": [
    "**Esercizio 2/3** \n",
    "\n",
    "• In media quanto pesano i prodotti (per questo esercizio, ignoriamo l'unità di misura, ma usiamo solo i valori della colonna relativa)? \n",
    "\n",
    "• Quanto pesa il più leggero? \n",
    "\n",
    "• Quanto pesa il più pesante? \n",
    "\n",
    "• Quanti prodotti pesano più di 100? \n",
    "\n",
    "• Quanto costano in media i prodotti (colonna DealerPrice)? \n",
    "\n",
    "• Quali sono i quartili dei prezzi?"
   ]
  },
  {
   "cell_type": "code",
   "execution_count": 41,
   "id": "da528e0a-781e-4b3f-84ed-1fd1efbed90b",
   "metadata": {},
   "outputs": [
    {
     "data": {
      "text/plain": [
       "56.1932269503546"
      ]
     },
     "execution_count": 41,
     "metadata": {},
     "output_type": "execute_result"
    }
   ],
   "source": [
    "df[\"Weight\"].mean() #peso medio dei prodotti"
   ]
  },
  {
   "cell_type": "code",
   "execution_count": 43,
   "id": "047473f5-9de9-4f97-a01e-67353cee7f16",
   "metadata": {},
   "outputs": [
    {
     "data": {
      "text/plain": [
       "2.12"
      ]
     },
     "execution_count": 43,
     "metadata": {},
     "output_type": "execute_result"
    }
   ],
   "source": [
    "df[\"Weight\"].min() #peso minimo "
   ]
  },
  {
   "cell_type": "code",
   "execution_count": 45,
   "id": "6d851d8a-b154-4c47-b34a-9baa63cd8d2a",
   "metadata": {},
   "outputs": [
    {
     "data": {
      "text/plain": [
       "1050.0"
      ]
     },
     "execution_count": 45,
     "metadata": {},
     "output_type": "execute_result"
    }
   ],
   "source": [
    "df[\"Weight\"].max() #peso massimo "
   ]
  },
  {
   "cell_type": "code",
   "execution_count": 51,
   "id": "191a6d19-9414-4767-a750-9df3ed93657d",
   "metadata": {},
   "outputs": [
    {
     "data": {
      "text/plain": [
       "28"
      ]
     },
     "execution_count": 51,
     "metadata": {},
     "output_type": "execute_result"
    }
   ],
   "source": [
    "df[\"Weight\"].gt(100).sum() # Quanti prodotti pesano più di 100?"
   ]
  },
  {
   "cell_type": "code",
   "execution_count": 54,
   "id": "5989567b-abed-48b9-88c4-8edfeca9f9be",
   "metadata": {},
   "outputs": [
    {
     "data": {
      "text/plain": [
       "448.5970597468353"
      ]
     },
     "execution_count": 54,
     "metadata": {},
     "output_type": "execute_result"
    }
   ],
   "source": [
    "df[\"DealerPrice\"].mean() #Quanto costano in media i prodotti (colonna DealerPrice)?"
   ]
  },
  {
   "cell_type": "code",
   "execution_count": 59,
   "id": "df872ed0-2899-4676-bfa1-8b71e6139ef6",
   "metadata": {},
   "outputs": [
    {
     "data": {
      "text/plain": [
       "count     395.000000\n",
       "mean      448.597060\n",
       "std       503.225071\n",
       "min         1.374000\n",
       "25%        41.994000\n",
       "50%       218.454000\n",
       "75%       722.594900\n",
       "max      2146.962000\n",
       "Name: DealerPrice, dtype: float64"
      ]
     },
     "execution_count": 59,
     "metadata": {},
     "output_type": "execute_result"
    }
   ],
   "source": [
    "df[\"DealerPrice\"].describe() #Quali sono i quartili dei prezzi?"
   ]
  },
  {
   "cell_type": "code",
   "execution_count": 61,
   "id": "5c181a9a-1fe7-435e-885e-a1536f4aba10",
   "metadata": {},
   "outputs": [
    {
     "data": {
      "text/plain": [
       "0.25     41.9940\n",
       "0.50    218.4540\n",
       "0.75    722.5949\n",
       "Name: DealerPrice, dtype: float64"
      ]
     },
     "execution_count": 61,
     "metadata": {},
     "output_type": "execute_result"
    }
   ],
   "source": [
    "df[\"DealerPrice\"].quantile([0.25,0.50,0.75])"
   ]
  },
  {
   "cell_type": "markdown",
   "id": "d95206a9-2bb5-406d-a810-154bcc5c34cd",
   "metadata": {},
   "source": [
    "**Esercizio 3/3** \n",
    "\n",
    "• Qual è il prezzo medio per i prodotti di colore blu? \n",
    "\n",
    "• Qual è il prezzo medio per i prodotti di colore rosso o nero? \n",
    "\n",
    "• Qual è il prezzo massimo per i prodotti di taglia 42 e peso oltre i 10 Kg? \n",
    "\n",
    "• Qual è il nome inglese e il costo di produzione (StandardCost) di tutti i prodotti di taglia 42, peso oltre i 10 Kg e colore argento? \n",
    "\n",
    "• Visualizziamo lo StandardCost e il DealerPrice degli ultimi 20 elementi del dataset: quali sono le differenze? C'è un pattern? \n",
    "\n",
    "C'è qualche elemento che non lo segue?"
   ]
  },
  {
   "cell_type": "code",
   "execution_count": 86,
   "id": "b41d23ef-0689-4330-86ca-57cb380943b0",
   "metadata": {},
   "outputs": [
    {
     "data": {
      "text/plain": [
       "516.0631785714286"
      ]
     },
     "execution_count": 86,
     "metadata": {},
     "output_type": "execute_result"
    }
   ],
   "source": [
    "\n",
    "df.loc[df.loc[:,\"Color\"] == \"Blue\", \"DealerPrice\"].mean() #Qual è il prezzo medio per i prodotti di colore blu?"
   ]
  },
  {
   "cell_type": "code",
   "execution_count": 100,
   "id": "9edebc63-fefb-457a-ae8b-e7290ffaae9d",
   "metadata": {},
   "outputs": [
    {
     "data": {
      "text/plain": [
       "550.2481873684211"
      ]
     },
     "execution_count": 100,
     "metadata": {},
     "output_type": "execute_result"
    }
   ],
   "source": [
    "df.loc[(df[\"Color\"] == \"Red\")|(df[\"Color\"] == \"Black\"), \"DealerPrice\"].mean() #Qual è il prezzo medio per i prodotti di colore rosso o nero?"
   ]
  },
  {
   "cell_type": "code",
   "execution_count": 131,
   "id": "6423d9a1-5676-478e-998a-c10b179d5dde",
   "metadata": {},
   "outputs": [
    {
     "data": {
      "text/plain": [
       "2039.994"
      ]
     },
     "execution_count": 131,
     "metadata": {},
     "output_type": "execute_result"
    }
   ],
   "source": [
    "filtro_taglia = df.loc[:, 'Size'] == '42'\n",
    "filtro_peso = df.loc[:, 'Weight'] > 10\n",
    "filtro = filtro_taglia & filtro_peso\n",
    "df.loc[filtro, \"DealerPrice\"].max() # Qual è il prezzo massimo per i prodotti di taglia 42 e peso oltre i 10 Kg?"
   ]
  },
  {
   "cell_type": "code",
   "execution_count": 151,
   "id": "52b09b68-8b56-4420-9b11-e1f75e1f2b29",
   "metadata": {},
   "outputs": [
    {
     "name": "stdout",
     "output_type": "stream",
     "text": [
      "            EnglishProductName  StandardCost\n",
      "344    Mountain-100 Silver, 42       1912.15\n",
      "348     Mountain-100 Black, 42       1898.09\n",
      "353    Mountain-200 Silver, 42       1117.86\n",
      "354    Mountain-200 Silver, 42       1265.62\n",
      "359     Mountain-200 Black, 42       1105.81\n",
      "360     Mountain-200 Black, 42       1251.98\n",
      "384      Road-550-W Yellow, 42        605.65\n",
      "385      Road-550-W Yellow, 42        713.08\n",
      "580      Road-350-W Yellow, 42       1082.51\n",
      "588  Mountain-400-W Silver, 42        419.78\n",
      "591    Mountain-500 Silver, 42        308.22\n",
      "596     Mountain-500 Black, 42        294.58\n"
     ]
    }
   ],
   "source": [
    "filtro_taglia = df[\"Size\"] == \"42\"\n",
    "filtro_peso = df[\"Weight\"] > 10 \n",
    "filtro_colore = df[\"Color\"] == \"Silver\"\n",
    "filtro = filtro_taglia & filtro_peso & filtro_colore\n",
    "df.loc[filtro, [\"EnglishProductName\",\"StandardCost\"]]\n",
    "print(df.loc[filtro, [\"EnglishProductName\",\"StandardCost\"]])\n",
    "\n",
    "# Qual è il nome inglese e il costo di produzione (StandardCost) di tutti i prodotti di taglia 42, peso oltre i 10 Kg e colore argento?"
   ]
  },
  {
   "cell_type": "code",
   "execution_count": 153,
   "id": "e2c9f692-939e-4a13-9595-39c4d8417575",
   "metadata": {},
   "outputs": [
    {
     "name": "stdout",
     "output_type": "stream",
     "text": [
      "     StandardCost  DealerPrice\n",
      "586        419.78      461.694\n",
      "587        419.78      461.694\n",
      "588        419.78      461.694\n",
      "589        419.78      461.694\n",
      "590        308.22      338.994\n",
      "591        308.22      338.994\n",
      "592        308.22      338.994\n",
      "593        308.22      338.994\n",
      "594        308.22      338.994\n",
      "595        294.58      323.994\n",
      "596        294.58      323.994\n",
      "597        294.58      323.994\n",
      "598        294.58      323.994\n",
      "599        294.58      323.994\n",
      "600         23.97       32.394\n",
      "601         44.95       60.744\n",
      "602         53.94       72.894\n",
      "603        343.65      323.994\n",
      "604        343.65      323.994\n",
      "605        343.65      323.994\n"
     ]
    }
   ],
   "source": [
    "df_tail = df.tail(20)\n",
    "var = df_tail.loc[:, ['StandardCost', 'DealerPrice']]\n",
    "print(var) # Visualizziamo lo StandardCost e il DealerPrice degli ultimi 20 elementi del dataset: quali sono le differenze? C'è un pattern? C'è qualche elemento che non lo segue?"
   ]
  },
  {
   "cell_type": "code",
   "execution_count": null,
   "id": "1253731f-f9df-4888-8892-3b6ec1fb6937",
   "metadata": {},
   "outputs": [],
   "source": []
  }
 ],
 "metadata": {
  "kernelspec": {
   "display_name": "Python [conda env:base] *",
   "language": "python",
   "name": "conda-base-py"
  },
  "language_info": {
   "codemirror_mode": {
    "name": "ipython",
    "version": 3
   },
   "file_extension": ".py",
   "mimetype": "text/x-python",
   "name": "python",
   "nbconvert_exporter": "python",
   "pygments_lexer": "ipython3",
   "version": "3.12.7"
  }
 },
 "nbformat": 4,
 "nbformat_minor": 5
}

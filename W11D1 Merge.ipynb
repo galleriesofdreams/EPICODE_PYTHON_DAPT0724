{
 "cells": [
  {
   "cell_type": "markdown",
   "id": "c7a2e14a-181b-4bb7-87c3-bc0c95ff4b3b",
   "metadata": {},
   "source": [
    "**Esercizio** Abbiamo un DataFrame di dipendenti e un DataFrame di dipartimenti."
   ]
  },
  {
   "cell_type": "code",
   "execution_count": 7,
   "id": "03729f4b-5caf-470c-8be9-33d0f6b37508",
   "metadata": {},
   "outputs": [],
   "source": [
    "import os\n",
    "import pandas as pd"
   ]
  },
  {
   "cell_type": "code",
   "execution_count": 12,
   "id": "e219860b-3f90-42c3-9f79-6336a6b087e2",
   "metadata": {},
   "outputs": [],
   "source": [
    "employees_df = pd.DataFrame({ 'employee_id': [101, 102, 103, 104, 105], 'name': ['Alice', 'Bob', 'Charlie', 'David', 'Emma'], 'department_id': [1, 2, 1, 2, 3] })\n",
    "departments_df = pd.DataFrame({ 'department_id': [1, 2, 3], 'department_name': ['HR', 'IT', 'Finance'], 'location': ['New York', 'San Francisco', 'Chicago'] })"
   ]
  },
  {
   "cell_type": "code",
   "execution_count": 18,
   "id": "0e25a2ee-f819-4053-bc21-1ebf5b6a6f88",
   "metadata": {},
   "outputs": [
    {
     "data": {
      "text/html": [
       "<div>\n",
       "<style scoped>\n",
       "    .dataframe tbody tr th:only-of-type {\n",
       "        vertical-align: middle;\n",
       "    }\n",
       "\n",
       "    .dataframe tbody tr th {\n",
       "        vertical-align: top;\n",
       "    }\n",
       "\n",
       "    .dataframe thead th {\n",
       "        text-align: right;\n",
       "    }\n",
       "</style>\n",
       "<table border=\"1\" class=\"dataframe\">\n",
       "  <thead>\n",
       "    <tr style=\"text-align: right;\">\n",
       "      <th></th>\n",
       "      <th>employee_id</th>\n",
       "      <th>name</th>\n",
       "      <th>department_id</th>\n",
       "      <th>department_name</th>\n",
       "      <th>location</th>\n",
       "    </tr>\n",
       "  </thead>\n",
       "  <tbody>\n",
       "    <tr>\n",
       "      <th>0</th>\n",
       "      <td>101</td>\n",
       "      <td>Alice</td>\n",
       "      <td>1</td>\n",
       "      <td>HR</td>\n",
       "      <td>New York</td>\n",
       "    </tr>\n",
       "    <tr>\n",
       "      <th>1</th>\n",
       "      <td>102</td>\n",
       "      <td>Bob</td>\n",
       "      <td>2</td>\n",
       "      <td>IT</td>\n",
       "      <td>San Francisco</td>\n",
       "    </tr>\n",
       "    <tr>\n",
       "      <th>2</th>\n",
       "      <td>103</td>\n",
       "      <td>Charlie</td>\n",
       "      <td>1</td>\n",
       "      <td>HR</td>\n",
       "      <td>New York</td>\n",
       "    </tr>\n",
       "    <tr>\n",
       "      <th>3</th>\n",
       "      <td>104</td>\n",
       "      <td>David</td>\n",
       "      <td>2</td>\n",
       "      <td>IT</td>\n",
       "      <td>San Francisco</td>\n",
       "    </tr>\n",
       "    <tr>\n",
       "      <th>4</th>\n",
       "      <td>105</td>\n",
       "      <td>Emma</td>\n",
       "      <td>3</td>\n",
       "      <td>Finance</td>\n",
       "      <td>Chicago</td>\n",
       "    </tr>\n",
       "  </tbody>\n",
       "</table>\n",
       "</div>"
      ],
      "text/plain": [
       "   employee_id     name  department_id department_name       location\n",
       "0          101    Alice              1              HR       New York\n",
       "1          102      Bob              2              IT  San Francisco\n",
       "2          103  Charlie              1              HR       New York\n",
       "3          104    David              2              IT  San Francisco\n",
       "4          105     Emma              3         Finance        Chicago"
      ]
     },
     "execution_count": 18,
     "metadata": {},
     "output_type": "execute_result"
    }
   ],
   "source": [
    "# Unire questi DataFrame in base alla colonna comune department_id, in modo da avere nel risultato informazioni sia sui dipendenti che sui dipartimenti, usando la funzione .merge()\n",
    "employees_df.merge(departments_df, how=\"left\", on=\"department_id\")"
   ]
  },
  {
   "cell_type": "code",
   "execution_count": 24,
   "id": "498827ad-7a71-4f50-b814-e681e4f770c9",
   "metadata": {},
   "outputs": [],
   "source": [
    "# Per ogni DataFrame, trasformare la colonna department_id nell'indice, facendo in modo che la modifica sia permanente;\n",
    "employees_df = employees_df.set_index(\"department_id\")\n",
    "departments_df = departments_df.set_index(\"department_id\")"
   ]
  },
  {
   "cell_type": "code",
   "execution_count": 33,
   "id": "f99fdc29-394e-4e3b-ba20-041e462a8764",
   "metadata": {},
   "outputs": [
    {
     "data": {
      "text/html": [
       "<div>\n",
       "<style scoped>\n",
       "    .dataframe tbody tr th:only-of-type {\n",
       "        vertical-align: middle;\n",
       "    }\n",
       "\n",
       "    .dataframe tbody tr th {\n",
       "        vertical-align: top;\n",
       "    }\n",
       "\n",
       "    .dataframe thead th {\n",
       "        text-align: right;\n",
       "    }\n",
       "</style>\n",
       "<table border=\"1\" class=\"dataframe\">\n",
       "  <thead>\n",
       "    <tr style=\"text-align: right;\">\n",
       "      <th></th>\n",
       "      <th>employee_id</th>\n",
       "      <th>name</th>\n",
       "      <th>department_name</th>\n",
       "      <th>location</th>\n",
       "    </tr>\n",
       "    <tr>\n",
       "      <th>department_id</th>\n",
       "      <th></th>\n",
       "      <th></th>\n",
       "      <th></th>\n",
       "      <th></th>\n",
       "    </tr>\n",
       "  </thead>\n",
       "  <tbody>\n",
       "    <tr>\n",
       "      <th>1</th>\n",
       "      <td>101</td>\n",
       "      <td>Alice</td>\n",
       "      <td>HR</td>\n",
       "      <td>New York</td>\n",
       "    </tr>\n",
       "    <tr>\n",
       "      <th>2</th>\n",
       "      <td>102</td>\n",
       "      <td>Bob</td>\n",
       "      <td>IT</td>\n",
       "      <td>San Francisco</td>\n",
       "    </tr>\n",
       "    <tr>\n",
       "      <th>1</th>\n",
       "      <td>103</td>\n",
       "      <td>Charlie</td>\n",
       "      <td>HR</td>\n",
       "      <td>New York</td>\n",
       "    </tr>\n",
       "    <tr>\n",
       "      <th>2</th>\n",
       "      <td>104</td>\n",
       "      <td>David</td>\n",
       "      <td>IT</td>\n",
       "      <td>San Francisco</td>\n",
       "    </tr>\n",
       "    <tr>\n",
       "      <th>3</th>\n",
       "      <td>105</td>\n",
       "      <td>Emma</td>\n",
       "      <td>Finance</td>\n",
       "      <td>Chicago</td>\n",
       "    </tr>\n",
       "  </tbody>\n",
       "</table>\n",
       "</div>"
      ],
      "text/plain": [
       "               employee_id     name department_name       location\n",
       "department_id                                                     \n",
       "1                      101    Alice              HR       New York\n",
       "2                      102      Bob              IT  San Francisco\n",
       "1                      103  Charlie              HR       New York\n",
       "2                      104    David              IT  San Francisco\n",
       "3                      105     Emma         Finance        Chicago"
      ]
     },
     "execution_count": 33,
     "metadata": {},
     "output_type": "execute_result"
    }
   ],
   "source": [
    "# poi unire i due dataset mediante il metodo .join() \n",
    "employees_departments = employees_df.join(departments_df)\n",
    "employees_departments"
   ]
  },
  {
   "cell_type": "markdown",
   "id": "970f208a-f9c8-4a9a-99cd-8677f8b3c052",
   "metadata": {},
   "source": [
    "**Ci sono differenze nel risultato? Quali? Perché?**\n",
    "Ci sono differenze perche' la colonna department_id e' diventata un indice comune per entrambe le tabelle pertanto entrambe le tabelle hanno una colonna in meno rispetto a prima"
   ]
  },
  {
   "cell_type": "code",
   "execution_count": null,
   "id": "1775f34a-3da0-4cd4-ad03-9f986a015087",
   "metadata": {},
   "outputs": [],
   "source": []
  }
 ],
 "metadata": {
  "kernelspec": {
   "display_name": "Python [conda env:base] *",
   "language": "python",
   "name": "conda-base-py"
  },
  "language_info": {
   "codemirror_mode": {
    "name": "ipython",
    "version": 3
   },
   "file_extension": ".py",
   "mimetype": "text/x-python",
   "name": "python",
   "nbconvert_exporter": "python",
   "pygments_lexer": "ipython3",
   "version": "3.12.7"
  }
 },
 "nbformat": 4,
 "nbformat_minor": 5
}

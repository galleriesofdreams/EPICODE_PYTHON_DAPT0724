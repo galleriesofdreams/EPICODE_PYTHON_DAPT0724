{
 "cells": [
  {
   "cell_type": "code",
   "execution_count": 9,
   "id": "44e49715-7145-499e-b287-30df37a06f67",
   "metadata": {},
   "outputs": [],
   "source": [
    "import os\n",
    "import dotenv\n",
    "import sqlalchemy\n",
    "import pandas as pd"
   ]
  },
  {
   "cell_type": "markdown",
   "id": "596241e2-f4ee-4208-a803-c31852010361",
   "metadata": {},
   "source": [
    "**Esercizio** Tra i beginner datasets selezioniamo amazon.csv\n",
    "\n",
    "• Valutiamo la dimensione del dataset \n",
    "\n",
    "• Visualizziamo dieci righe a caso; \n",
    "\n",
    "• Osserviamo quali sono i nomi di colonna; \n",
    "\n",
    "• Il dataset è bilanciato, ovvero, il numero di recensioni positive è uguale a quello delle negative, oppure no?"
   ]
  },
  {
   "cell_type": "code",
   "execution_count": 11,
   "id": "3def8675-6c47-412f-b4ff-17afba8bbb68",
   "metadata": {},
   "outputs": [],
   "source": [
    "df = pd.read_csv(r\"C:\\Users\\patri\\OneDrive\\Documents\\Epicode Data Analyst\\Modulo 3 - Python\\W10D5\\datasets\\datasets\\beginner_datasets\\amazon.csv\")"
   ]
  },
  {
   "cell_type": "code",
   "execution_count": 13,
   "id": "149870b1-67ba-40fb-8f25-00a665bc87d9",
   "metadata": {},
   "outputs": [
    {
     "data": {
      "text/plain": [
       "(20000, 2)"
      ]
     },
     "execution_count": 13,
     "metadata": {},
     "output_type": "execute_result"
    }
   ],
   "source": [
    "df.shape # Valutiamo la dimensione del dataset "
   ]
  },
  {
   "cell_type": "code",
   "execution_count": 15,
   "id": "c89a4bc6-87bd-4608-aa64-defad1c6e847",
   "metadata": {},
   "outputs": [
    {
     "data": {
      "text/html": [
       "<div>\n",
       "<style scoped>\n",
       "    .dataframe tbody tr th:only-of-type {\n",
       "        vertical-align: middle;\n",
       "    }\n",
       "\n",
       "    .dataframe tbody tr th {\n",
       "        vertical-align: top;\n",
       "    }\n",
       "\n",
       "    .dataframe thead th {\n",
       "        text-align: right;\n",
       "    }\n",
       "</style>\n",
       "<table border=\"1\" class=\"dataframe\">\n",
       "  <thead>\n",
       "    <tr style=\"text-align: right;\">\n",
       "      <th></th>\n",
       "      <th>reviewText</th>\n",
       "      <th>Positive</th>\n",
       "    </tr>\n",
       "  </thead>\n",
       "  <tbody>\n",
       "    <tr>\n",
       "      <th>12358</th>\n",
       "      <td>This is been a great app ever since I download...</td>\n",
       "      <td>1</td>\n",
       "    </tr>\n",
       "    <tr>\n",
       "      <th>932</th>\n",
       "      <td>it's a great free game. very fun. even if it's...</td>\n",
       "      <td>1</td>\n",
       "    </tr>\n",
       "    <tr>\n",
       "      <th>7891</th>\n",
       "      <td>All of the dominoes are in the pattern...Okay ...</td>\n",
       "      <td>0</td>\n",
       "    </tr>\n",
       "    <tr>\n",
       "      <th>2524</th>\n",
       "      <td>I completed the game but it was very challengi...</td>\n",
       "      <td>1</td>\n",
       "    </tr>\n",
       "    <tr>\n",
       "      <th>2184</th>\n",
       "      <td>sometimes...you want a card game and no one wi...</td>\n",
       "      <td>1</td>\n",
       "    </tr>\n",
       "    <tr>\n",
       "      <th>5333</th>\n",
       "      <td>I HATE THIS APP!!! Do not get it. takes 10 sec...</td>\n",
       "      <td>0</td>\n",
       "    </tr>\n",
       "    <tr>\n",
       "      <th>6435</th>\n",
       "      <td>Like so many others remember this fondly from ...</td>\n",
       "      <td>1</td>\n",
       "    </tr>\n",
       "    <tr>\n",
       "      <th>10876</th>\n",
       "      <td>Apples wonderful for all shoe lovers. Shoe peo...</td>\n",
       "      <td>1</td>\n",
       "    </tr>\n",
       "    <tr>\n",
       "      <th>7451</th>\n",
       "      <td>I did not like it.</td>\n",
       "      <td>0</td>\n",
       "    </tr>\n",
       "    <tr>\n",
       "      <th>4666</th>\n",
       "      <td>beyond fun! beyond addicting! challenging and ...</td>\n",
       "      <td>1</td>\n",
       "    </tr>\n",
       "  </tbody>\n",
       "</table>\n",
       "</div>"
      ],
      "text/plain": [
       "                                              reviewText  Positive\n",
       "12358  This is been a great app ever since I download...         1\n",
       "932    it's a great free game. very fun. even if it's...         1\n",
       "7891   All of the dominoes are in the pattern...Okay ...         0\n",
       "2524   I completed the game but it was very challengi...         1\n",
       "2184   sometimes...you want a card game and no one wi...         1\n",
       "5333   I HATE THIS APP!!! Do not get it. takes 10 sec...         0\n",
       "6435   Like so many others remember this fondly from ...         1\n",
       "10876  Apples wonderful for all shoe lovers. Shoe peo...         1\n",
       "7451                                  I did not like it.         0\n",
       "4666   beyond fun! beyond addicting! challenging and ...         1"
      ]
     },
     "execution_count": 15,
     "metadata": {},
     "output_type": "execute_result"
    }
   ],
   "source": [
    "df.sample(10) # Visualizziamo dieci righe a caso"
   ]
  },
  {
   "cell_type": "code",
   "execution_count": 17,
   "id": "d40d4e0c-f862-4de1-b30f-01045da8eb1d",
   "metadata": {},
   "outputs": [
    {
     "data": {
      "text/plain": [
       "Index(['reviewText', 'Positive'], dtype='object')"
      ]
     },
     "execution_count": 17,
     "metadata": {},
     "output_type": "execute_result"
    }
   ],
   "source": [
    "df.columns #Osserviamo quali sono i nomi di colonna"
   ]
  },
  {
   "cell_type": "markdown",
   "id": "dc6efffa-ff20-4356-962f-50fe66dbab5b",
   "metadata": {},
   "source": [
    "**Il dataset è bilanciato, ovvero, il numero di recensioni positive è uguale a quello delle negative, oppure no?**\n",
    "\n",
    "No, ci sono molte piu' recensioni positive che negative. Inoltre trovo l'etichetta della colonna fuorviante."
   ]
  },
  {
   "cell_type": "code",
   "execution_count": null,
   "id": "288c56b3-e91e-4f3e-ae45-efa9211e41f7",
   "metadata": {},
   "outputs": [],
   "source": []
  }
 ],
 "metadata": {
  "kernelspec": {
   "display_name": "Python [conda env:base] *",
   "language": "python",
   "name": "conda-base-py"
  },
  "language_info": {
   "codemirror_mode": {
    "name": "ipython",
    "version": 3
   },
   "file_extension": ".py",
   "mimetype": "text/x-python",
   "name": "python",
   "nbconvert_exporter": "python",
   "pygments_lexer": "ipython3",
   "version": "3.12.7"
  }
 },
 "nbformat": 4,
 "nbformat_minor": 5
}

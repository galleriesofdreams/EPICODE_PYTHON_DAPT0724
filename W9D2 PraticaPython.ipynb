{
 "cells": [
  {
   "cell_type": "code",
   "execution_count": null,
   "id": "1a394892-fb7c-49a0-9643-55e3706b180b",
   "metadata": {},
   "outputs": [],
   "source": [
    "# Abbiamo 25 studenti; memorizzare questo dato in una variabile e stamparla a video."
   ]
  },
  {
   "cell_type": "code",
   "execution_count": 1,
   "id": "f5d6bb4f-5a5a-4bcc-bac3-29d491f0d5e9",
   "metadata": {},
   "outputs": [],
   "source": [
    "studenti = 25"
   ]
  },
  {
   "cell_type": "code",
   "execution_count": 2,
   "id": "48012126-a039-4695-8b97-f567538d904e",
   "metadata": {},
   "outputs": [
    {
     "name": "stdout",
     "output_type": "stream",
     "text": [
      "25\n"
     ]
    }
   ],
   "source": [
    "print(studenti)"
   ]
  },
  {
   "cell_type": "code",
   "execution_count": null,
   "id": "9fefcfea-4412-4661-afae-2e159b2b3928",
   "metadata": {},
   "outputs": [],
   "source": [
    "# Abbiamo 25 studenti; memorizzare questo dato in una variabile. Arrivano altri 3 studenti; memorizzare questo dato in un'altra variabile."
   ]
  },
  {
   "cell_type": "code",
   "execution_count": 3,
   "id": "4a2f573f-8222-4003-a82a-46e365bfbd48",
   "metadata": {},
   "outputs": [],
   "source": [
    "studenti_bis = studenti + 3"
   ]
  },
  {
   "cell_type": "code",
   "execution_count": 5,
   "id": "55147fa1-e8b8-499e-a85c-37f19efe4738",
   "metadata": {},
   "outputs": [
    {
     "name": "stdout",
     "output_type": "stream",
     "text": [
      "28\n"
     ]
    }
   ],
   "source": [
    "print (studenti_bis)"
   ]
  },
  {
   "cell_type": "code",
   "execution_count": null,
   "id": "5201912c-e5cb-4930-8309-f8d0fabaa38f",
   "metadata": {},
   "outputs": [],
   "source": [
    "# Abbiamo 25 studenti; memorizzare questo dato in una variabile. \n",
    "# Arrivano altri 3 studenti; memorizzare questo dato in un'altra variabile. \n",
    "# Creare un'altra variabile ancora che conterrà la somma delle prime due, poi stamparla a video."
   ]
  },
  {
   "cell_type": "code",
   "execution_count": 6,
   "id": "28ce0f3b-6870-4e76-ad53-7ce70fe17fed",
   "metadata": {},
   "outputs": [],
   "source": [
    "studenti_totale = studenti + studenti_bis"
   ]
  },
  {
   "cell_type": "code",
   "execution_count": 7,
   "id": "224bcc1e-5ae8-4763-bcca-3f283d90c52d",
   "metadata": {},
   "outputs": [
    {
     "name": "stdout",
     "output_type": "stream",
     "text": [
      "53\n"
     ]
    }
   ],
   "source": [
    "print(studenti_totale)"
   ]
  },
  {
   "cell_type": "code",
   "execution_count": 8,
   "id": "8b003b1f-70ab-4520-b2fc-3382220d2449",
   "metadata": {},
   "outputs": [],
   "source": [
    "studenti_addendum = 3"
   ]
  },
  {
   "cell_type": "code",
   "execution_count": 9,
   "id": "3f62679e-d9bd-4d02-9418-155aceef3271",
   "metadata": {},
   "outputs": [],
   "source": [
    "studenti_totale2 = studenti + studenti_addendum"
   ]
  },
  {
   "cell_type": "code",
   "execution_count": 10,
   "id": "bf736f05-a212-4095-a969-04451e29dd0e",
   "metadata": {},
   "outputs": [
    {
     "name": "stdout",
     "output_type": "stream",
     "text": [
      "28\n"
     ]
    }
   ],
   "source": [
    "print(studenti_totale2)"
   ]
  },
  {
   "cell_type": "code",
   "execution_count": null,
   "id": "3cf99434-6f5d-444e-b61e-76ba0cf7916f",
   "metadata": {},
   "outputs": [],
   "source": [
    "# Creare una variabile che contiene la stringa \"Epicode\", quindi stamparla a video."
   ]
  },
  {
   "cell_type": "code",
   "execution_count": 11,
   "id": "f8b4f3ff-a4be-42ec-a0f1-0f40d326b331",
   "metadata": {},
   "outputs": [],
   "source": [
    "nomescuola = \"Epicode\""
   ]
  },
  {
   "cell_type": "code",
   "execution_count": 12,
   "id": "b233c6f2-ebff-4e63-a3a6-f10d5430a167",
   "metadata": {},
   "outputs": [
    {
     "name": "stdout",
     "output_type": "stream",
     "text": [
      "Epicode\n"
     ]
    }
   ],
   "source": [
    "print(nomescuola)"
   ]
  },
  {
   "cell_type": "code",
   "execution_count": null,
   "id": "8495e9e1-7391-4898-814e-035b01fcff32",
   "metadata": {},
   "outputs": [],
   "source": [
    "# Abbiamo la variabile: x = 10 Incrementarla di 2 e poi moltiplicarla per 3"
   ]
  },
  {
   "cell_type": "code",
   "execution_count": 23,
   "id": "c492c5c3-cb43-4dc4-9ed9-b8a6a4125b19",
   "metadata": {},
   "outputs": [],
   "source": [
    "x = 10"
   ]
  },
  {
   "cell_type": "code",
   "execution_count": 25,
   "id": "acf04748-5f53-4686-b5b0-2d5957d66a09",
   "metadata": {},
   "outputs": [],
   "source": [
    "x = x+2"
   ]
  },
  {
   "cell_type": "code",
   "execution_count": 27,
   "id": "fe7fd183-ab23-4b57-a8de-353aaee36ee3",
   "metadata": {},
   "outputs": [],
   "source": [
    "x = x *3"
   ]
  },
  {
   "cell_type": "code",
   "execution_count": 29,
   "id": "74a9fa6f-0646-40d7-93ee-4849602c5cb4",
   "metadata": {},
   "outputs": [
    {
     "name": "stdout",
     "output_type": "stream",
     "text": [
      "36\n"
     ]
    }
   ],
   "source": [
    "print(x)"
   ]
  },
  {
   "cell_type": "code",
   "execution_count": null,
   "id": "73d5562b-e6e4-4db0-bf7f-146e9ff31db0",
   "metadata": {},
   "outputs": [],
   "source": [
    "# Creiamo le seguenti stringhe, e per ognuna di esse verifichiamone la lunghezza con la funzione len():"
   ]
  },
  {
   "cell_type": "code",
   "execution_count": 30,
   "id": "4233212c-8b53-486e-bfeb-408251444130",
   "metadata": {},
   "outputs": [],
   "source": [
    "str1 = \"Windows\""
   ]
  },
  {
   "cell_type": "code",
   "execution_count": 31,
   "id": "8d574a81-ee6b-4084-a10a-e3b81cc1220a",
   "metadata": {},
   "outputs": [],
   "source": [
    "str2 = \"Excel\""
   ]
  },
  {
   "cell_type": "code",
   "execution_count": 32,
   "id": "272877cd-1f6c-4f0c-ab99-9eb2f87fb53c",
   "metadata": {},
   "outputs": [],
   "source": [
    "str3 = \"Powerpoint\""
   ]
  },
  {
   "cell_type": "code",
   "execution_count": 33,
   "id": "b05a3acd-31ba-49d9-a604-42010b004631",
   "metadata": {},
   "outputs": [],
   "source": [
    "str4 = \"Word\""
   ]
  },
  {
   "cell_type": "code",
   "execution_count": 37,
   "id": "20e21ad2-bdd3-41c2-a5e2-6720b2029d8b",
   "metadata": {},
   "outputs": [
    {
     "data": {
      "text/plain": [
       "7"
      ]
     },
     "execution_count": 37,
     "metadata": {},
     "output_type": "execute_result"
    }
   ],
   "source": [
    "len(str1)"
   ]
  },
  {
   "cell_type": "code",
   "execution_count": 38,
   "id": "2eacf3c7-db9c-4d78-bc02-34c6b8e7a99c",
   "metadata": {},
   "outputs": [
    {
     "data": {
      "text/plain": [
       "5"
      ]
     },
     "execution_count": 38,
     "metadata": {},
     "output_type": "execute_result"
    }
   ],
   "source": [
    "len(str2)"
   ]
  },
  {
   "cell_type": "code",
   "execution_count": 39,
   "id": "37fdd3f2-bc0a-40ec-bb66-c0a8cdea3144",
   "metadata": {},
   "outputs": [
    {
     "data": {
      "text/plain": [
       "10"
      ]
     },
     "execution_count": 39,
     "metadata": {},
     "output_type": "execute_result"
    }
   ],
   "source": [
    "len(str3)"
   ]
  },
  {
   "cell_type": "code",
   "execution_count": 40,
   "id": "f3f6500f-7231-485d-ba44-b5b7b24b0d8e",
   "metadata": {},
   "outputs": [
    {
     "data": {
      "text/plain": [
       "4"
      ]
     },
     "execution_count": 40,
     "metadata": {},
     "output_type": "execute_result"
    }
   ],
   "source": [
    "len(str4)"
   ]
  },
  {
   "cell_type": "code",
   "execution_count": 41,
   "id": "ba077a7b-5a13-48d0-b0b7-e9f2a0084b94",
   "metadata": {},
   "outputs": [],
   "source": [
    "# Calcolare e stampare a video quanti secondi ci sono in un anno non bisestile."
   ]
  },
  {
   "cell_type": "code",
   "execution_count": 42,
   "id": "40292381-94a4-4433-bfb6-a6b4a2b82915",
   "metadata": {},
   "outputs": [],
   "source": [
    "secondi_per_anno = ((60*60)* 24)*365"
   ]
  },
  {
   "cell_type": "code",
   "execution_count": 43,
   "id": "ce98472b-a0ec-40a6-829e-8c86bbc00111",
   "metadata": {},
   "outputs": [
    {
     "name": "stdout",
     "output_type": "stream",
     "text": [
      "31536000\n"
     ]
    }
   ],
   "source": [
    "print(secondi_per_anno)"
   ]
  },
  {
   "cell_type": "code",
   "execution_count": 44,
   "id": "2227a41a-724c-4d25-a499-22fd54710d4b",
   "metadata": {},
   "outputs": [],
   "source": [
    "#alternativamente"
   ]
  },
  {
   "cell_type": "code",
   "execution_count": 45,
   "id": "e0b1353c-4a33-45cf-8319-d386bac2167d",
   "metadata": {},
   "outputs": [],
   "source": [
    "secondi_per_minuto = 60"
   ]
  },
  {
   "cell_type": "code",
   "execution_count": 46,
   "id": "d61a7ca8-81e9-479d-841c-33acd3895d14",
   "metadata": {},
   "outputs": [],
   "source": [
    "minuti_per_ora = 60"
   ]
  },
  {
   "cell_type": "code",
   "execution_count": 47,
   "id": "0ca5c4fe-0198-4946-a4fd-e431fbdebe99",
   "metadata": {},
   "outputs": [],
   "source": [
    "ore_per_giorno = 24"
   ]
  },
  {
   "cell_type": "code",
   "execution_count": 48,
   "id": "9c942b52-432e-48d1-98f4-0149bd457368",
   "metadata": {},
   "outputs": [],
   "source": [
    "giorni_per_anno = 365"
   ]
  },
  {
   "cell_type": "code",
   "execution_count": 49,
   "id": "4d7ef183-55ad-421c-8c4f-41304c585cbb",
   "metadata": {},
   "outputs": [],
   "source": [
    "secondi_per_anno2 = ((secondi_per_minuto * minuti_per_ora)*ore_per_giorno)*giorni_per_anno"
   ]
  },
  {
   "cell_type": "code",
   "execution_count": 50,
   "id": "1026fce0-1faf-4a83-83b4-99fc4860285e",
   "metadata": {},
   "outputs": [
    {
     "name": "stdout",
     "output_type": "stream",
     "text": [
      "31536000\n"
     ]
    }
   ],
   "source": [
    "print(secondi_per_anno2)"
   ]
  },
  {
   "cell_type": "code",
   "execution_count": null,
   "id": "1de3debf-0920-4807-b037-f3a8b1b4f4c0",
   "metadata": {},
   "outputs": [],
   "source": [
    "# Abbiamo la seguente stringa: my_string = \"I am studying Python\" \n",
    "#• Trasformarla in modo che tutti i caratteri siano maiuscoli (uppercase) \n",
    "#• Trasformarla in modo che tutti i caratteri siano minuscoli (lowercase) \n",
    "#• Sostituire la sottostringa \"Python\" con la stringa \"a lot\" \n",
    "#• Usare il metodo .strip(); cambia qualcosa? Perché? \n",
    "#• Usare il metodo .split() per trovare tutte le parole (token)"
   ]
  },
  {
   "cell_type": "code",
   "execution_count": 51,
   "id": "474fd3f2-ce14-46da-8435-e790929a7dfa",
   "metadata": {},
   "outputs": [],
   "source": [
    "my_string = \"I am studying Python\""
   ]
  },
  {
   "cell_type": "code",
   "execution_count": 52,
   "id": "a79792b9-a27b-4f4b-9962-c2a3cd9c6174",
   "metadata": {},
   "outputs": [],
   "source": [
    "my_string = my_string.upper()"
   ]
  },
  {
   "cell_type": "code",
   "execution_count": 53,
   "id": "8a63cfed-3528-4d40-bf40-942420407c26",
   "metadata": {},
   "outputs": [
    {
     "name": "stdout",
     "output_type": "stream",
     "text": [
      "I AM STUDYING PYTHON\n"
     ]
    }
   ],
   "source": [
    "print(my_string)"
   ]
  },
  {
   "cell_type": "code",
   "execution_count": 54,
   "id": "0f9482f5-c7ae-4569-a600-409c079fd5ef",
   "metadata": {},
   "outputs": [],
   "source": [
    "my_string = my_string.lower()"
   ]
  },
  {
   "cell_type": "code",
   "execution_count": 55,
   "id": "3bfd12dd-2cee-4aa2-800c-1a08f7a5093f",
   "metadata": {},
   "outputs": [
    {
     "name": "stdout",
     "output_type": "stream",
     "text": [
      "i am studying python\n"
     ]
    }
   ],
   "source": [
    "print(my_string)"
   ]
  },
  {
   "cell_type": "code",
   "execution_count": 56,
   "id": "5c5daebb-a584-411f-8564-e47079961fc6",
   "metadata": {},
   "outputs": [],
   "source": [
    "my_string = my_string.replace(\"python\", \"alot\")"
   ]
  },
  {
   "cell_type": "code",
   "execution_count": 57,
   "id": "b397fd63-9da9-4499-8b07-2cb925c2c90f",
   "metadata": {},
   "outputs": [
    {
     "name": "stdout",
     "output_type": "stream",
     "text": [
      "i am studying alot\n"
     ]
    }
   ],
   "source": [
    "print(my_string)"
   ]
  },
  {
   "cell_type": "code",
   "execution_count": 58,
   "id": "a3a11690-3899-4dc8-b2e3-84b7f3a41bcd",
   "metadata": {},
   "outputs": [
    {
     "data": {
      "text/plain": [
       "'i am studying alot'"
      ]
     },
     "execution_count": 58,
     "metadata": {},
     "output_type": "execute_result"
    }
   ],
   "source": [
    "my_string.strip() # non cambia nulla perche non ci sono spazi prima e dopo"
   ]
  },
  {
   "cell_type": "code",
   "execution_count": 59,
   "id": "5b104447-bef8-497a-bc99-1a58ca3acb6f",
   "metadata": {},
   "outputs": [
    {
     "data": {
      "text/plain": [
       "['i', 'am', 'studying', 'alot']"
      ]
     },
     "execution_count": 59,
     "metadata": {},
     "output_type": "execute_result"
    }
   ],
   "source": [
    "my_string.split()"
   ]
  },
  {
   "cell_type": "code",
   "execution_count": null,
   "id": "67dce6b7-c9ff-42df-9d5e-1037388268e0",
   "metadata": {},
   "outputs": [],
   "source": [
    "# Abbiamo due liste, una di studenti e una di corsi:"
   ]
  },
  {
   "cell_type": "code",
   "execution_count": 60,
   "id": "0314bfba-a221-46c1-8436-a46dfc6372b1",
   "metadata": {},
   "outputs": [],
   "source": [
    "studenti = [\"Alex\", \"Bob\", \"Cindy\", \"Dan\", \"Emma\", \"Faith\", \"Grace\", \"Henry\"]"
   ]
  },
  {
   "cell_type": "code",
   "execution_count": 61,
   "id": "bdb7c4c6-aa2f-4b5b-9a30-9d2e95763f67",
   "metadata": {},
   "outputs": [],
   "source": [
    "corsi = [\"Cybersecurity\", \"Data Analyst\", \"Backend\", \"Frontend\", \"Data Analyst\", \"Backend\"]"
   ]
  },
  {
   "cell_type": "code",
   "execution_count": null,
   "id": "780aeef2-690c-415d-b3f3-b567affdde1c",
   "metadata": {},
   "outputs": [],
   "source": [
    "# Tenendo conto che i dati sono in corrispondenza posizionale, leggiamo con attenzione le due liste. \n",
    "# Sapendo che Emma segue Data Analyst, Faith segue Backend, Grace segue Frontend, Henry segue Cybersecurity \n",
    "# alla lista cui mancano dei dati, aggiungiamo i dati mancanti uno alla volta con il metodo .append()"
   ]
  },
  {
   "cell_type": "code",
   "execution_count": 63,
   "id": "8aefc715-e6c6-49cf-abde-284e1cee8f97",
   "metadata": {},
   "outputs": [],
   "source": [
    "corsi.append(\"Frontend\")"
   ]
  },
  {
   "cell_type": "code",
   "execution_count": 64,
   "id": "46d1e439-86a5-4029-b1ff-8486c72f31f1",
   "metadata": {},
   "outputs": [],
   "source": [
    "corsi.append(\"Cybersecurity\")"
   ]
  },
  {
   "cell_type": "code",
   "execution_count": 65,
   "id": "87277412-8132-4273-9b9e-14c7173bb175",
   "metadata": {},
   "outputs": [
    {
     "name": "stdout",
     "output_type": "stream",
     "text": [
      "['Cybersecurity', 'Data Analyst', 'Backend', 'Frontend', 'Data Analyst', 'Backend', 'Frontend', 'Cybersecurity']\n"
     ]
    }
   ],
   "source": [
    "print(corsi)"
   ]
  },
  {
   "cell_type": "code",
   "execution_count": null,
   "id": "fcf96bcc-9058-4081-a580-fa96a0eb5c95",
   "metadata": {},
   "outputs": [],
   "source": []
  }
 ],
 "metadata": {
  "kernelspec": {
   "display_name": "Python 3 (ipykernel)",
   "language": "python",
   "name": "python3"
  },
  "language_info": {
   "codemirror_mode": {
    "name": "ipython",
    "version": 3
   },
   "file_extension": ".py",
   "mimetype": "text/x-python",
   "name": "python",
   "nbconvert_exporter": "python",
   "pygments_lexer": "ipython3",
   "version": "3.12.7"
  }
 },
 "nbformat": 4,
 "nbformat_minor": 5
}

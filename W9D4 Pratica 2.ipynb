{
 "cells": [
  {
   "cell_type": "markdown",
   "id": "cc9fa7c9-3c8a-45f2-8299-f4630d880f42",
   "metadata": {},
   "source": [
    "# Dizionari"
   ]
  },
  {
   "cell_type": "code",
   "execution_count": 1,
   "id": "2535071c-8650-4976-b36c-b4af30bcb301",
   "metadata": {},
   "outputs": [],
   "source": [
    "rubrica = {\"Ada\": \"123\", \"Ben\": \"456\"}"
   ]
  },
  {
   "cell_type": "code",
   "execution_count": 2,
   "id": "949f20b5-6d04-453f-805f-055558c05712",
   "metadata": {},
   "outputs": [
    {
     "data": {
      "text/plain": [
       "{'Ada': '123', 'Ben': '456'}"
      ]
     },
     "execution_count": 2,
     "metadata": {},
     "output_type": "execute_result"
    }
   ],
   "source": [
    "rubrica"
   ]
  },
  {
   "cell_type": "code",
   "execution_count": 3,
   "id": "000c900f-b601-47ef-9616-6b10e1b9e312",
   "metadata": {},
   "outputs": [
    {
     "data": {
      "text/plain": [
       "'123'"
      ]
     },
     "execution_count": 3,
     "metadata": {},
     "output_type": "execute_result"
    }
   ],
   "source": [
    "rubrica[\"Ada\"]"
   ]
  },
  {
   "cell_type": "code",
   "execution_count": 4,
   "id": "0fa3ff0b-5ffb-4e31-9a6c-039deec0cd2b",
   "metadata": {},
   "outputs": [],
   "source": [
    "rubrica[\"Charlie\"] = \"789\""
   ]
  },
  {
   "cell_type": "code",
   "execution_count": 5,
   "id": "60b8c334-0efd-4298-be43-aef017c1dfcb",
   "metadata": {},
   "outputs": [
    {
     "data": {
      "text/plain": [
       "{'Ada': '123', 'Ben': '456', 'Charlie': '789'}"
      ]
     },
     "execution_count": 5,
     "metadata": {},
     "output_type": "execute_result"
    }
   ],
   "source": [
    "rubrica"
   ]
  },
  {
   "cell_type": "markdown",
   "id": "f2c885b8-9614-42bb-94f3-986534f5feb9",
   "metadata": {},
   "source": [
    "## Metodi"
   ]
  },
  {
   "cell_type": "code",
   "execution_count": 6,
   "id": "0023533a-7bf1-4cdd-b723-d437db502559",
   "metadata": {},
   "outputs": [
    {
     "data": {
      "text/plain": [
       "'456'"
      ]
     },
     "execution_count": 6,
     "metadata": {},
     "output_type": "execute_result"
    }
   ],
   "source": [
    "rubrica.get(\"Ben\")"
   ]
  },
  {
   "cell_type": "code",
   "execution_count": 7,
   "id": "32dff998-d45a-45ff-8fcd-82e489298988",
   "metadata": {},
   "outputs": [
    {
     "data": {
      "text/plain": [
       "dict_keys(['Ada', 'Ben', 'Charlie'])"
      ]
     },
     "execution_count": 7,
     "metadata": {},
     "output_type": "execute_result"
    }
   ],
   "source": [
    "rubrica.keys()"
   ]
  },
  {
   "cell_type": "code",
   "execution_count": 8,
   "id": "06c82f6a-b3e2-4594-84cb-ab9bbad01243",
   "metadata": {},
   "outputs": [
    {
     "data": {
      "text/plain": [
       "dict_values(['123', '456', '789'])"
      ]
     },
     "execution_count": 8,
     "metadata": {},
     "output_type": "execute_result"
    }
   ],
   "source": [
    "rubrica.values()"
   ]
  },
  {
   "cell_type": "code",
   "execution_count": 9,
   "id": "ba307e61-add8-4f74-9ca6-7422aacf5569",
   "metadata": {},
   "outputs": [
    {
     "data": {
      "text/plain": [
       "dict_items([('Ada', '123'), ('Ben', '456'), ('Charlie', '789')])"
      ]
     },
     "execution_count": 9,
     "metadata": {},
     "output_type": "execute_result"
    }
   ],
   "source": [
    "rubrica.items()"
   ]
  },
  {
   "cell_type": "code",
   "execution_count": 10,
   "id": "9b6ae416-05da-4202-aee0-2c4dcf99723e",
   "metadata": {},
   "outputs": [],
   "source": [
    "magazzino = {\"magliette\": 10, \"sciarpe\": 5, \"scarpe\": 8, \"cappelli\": 20}"
   ]
  },
  {
   "cell_type": "code",
   "execution_count": 11,
   "id": "aef56e7d-5c9e-484f-a43d-79ee1a615ee8",
   "metadata": {},
   "outputs": [
    {
     "data": {
      "text/plain": [
       "{'magliette': 10, 'sciarpe': 5, 'scarpe': 8, 'cappelli': 20}"
      ]
     },
     "execution_count": 11,
     "metadata": {},
     "output_type": "execute_result"
    }
   ],
   "source": [
    "magazzino"
   ]
  },
  {
   "cell_type": "code",
   "execution_count": 12,
   "id": "b40f7967-7e8e-40f5-b9bb-c08990ebd1c2",
   "metadata": {},
   "outputs": [
    {
     "data": {
      "text/plain": [
       "20"
      ]
     },
     "execution_count": 12,
     "metadata": {},
     "output_type": "execute_result"
    }
   ],
   "source": [
    "magazzino[\"cappelli\"]"
   ]
  },
  {
   "cell_type": "code",
   "execution_count": 13,
   "id": "eeb6fcf1-0ce7-47df-a2e7-9b6dfcede839",
   "metadata": {},
   "outputs": [],
   "source": [
    "magazzino.update( {\"magliette\":30,\"calzini\":15} )"
   ]
  },
  {
   "cell_type": "code",
   "execution_count": 14,
   "id": "facaf82b-ecaf-4446-a2af-cee5aaa48718",
   "metadata": {},
   "outputs": [
    {
     "data": {
      "text/plain": [
       "{'magliette': 30, 'sciarpe': 5, 'scarpe': 8, 'cappelli': 20, 'calzini': 15}"
      ]
     },
     "execution_count": 14,
     "metadata": {},
     "output_type": "execute_result"
    }
   ],
   "source": [
    "magazzino"
   ]
  },
  {
   "cell_type": "code",
   "execution_count": 15,
   "id": "37f5c8a1-8ffe-41e2-9d1f-161e0b686cd2",
   "metadata": {},
   "outputs": [],
   "source": [
    "magazzino[\"magliette\"] = magazzino[\"magliette\"] + 2"
   ]
  },
  {
   "cell_type": "code",
   "execution_count": 16,
   "id": "d117a009-fb4c-43be-b066-023eef0169a6",
   "metadata": {},
   "outputs": [
    {
     "data": {
      "text/plain": [
       "{'magliette': 32, 'sciarpe': 5, 'scarpe': 8, 'cappelli': 20, 'calzini': 15}"
      ]
     },
     "execution_count": 16,
     "metadata": {},
     "output_type": "execute_result"
    }
   ],
   "source": [
    "magazzino"
   ]
  },
  {
   "cell_type": "code",
   "execution_count": 17,
   "id": "48f5ce1c-0362-463e-9feb-240363e871e5",
   "metadata": {},
   "outputs": [],
   "source": [
    "magazzino.update( {\"magliette\": magazzino[\"magliette\"]+2} )\n",
    "# {\"magliette\": 34}"
   ]
  },
  {
   "cell_type": "code",
   "execution_count": 18,
   "id": "a2f91eb7-a470-4185-905e-655e090dce63",
   "metadata": {},
   "outputs": [
    {
     "data": {
      "text/plain": [
       "{'magliette': 34, 'sciarpe': 5, 'scarpe': 8, 'cappelli': 20, 'calzini': 15}"
      ]
     },
     "execution_count": 18,
     "metadata": {},
     "output_type": "execute_result"
    }
   ],
   "source": [
    "magazzino"
   ]
  },
  {
   "cell_type": "markdown",
   "id": "b8c7528f-5f77-4509-93f5-d18b8373b055",
   "metadata": {},
   "source": [
    "# Costrutto `if`"
   ]
  },
  {
   "cell_type": "code",
   "execution_count": 19,
   "id": "d4a89c6b-bccc-41e4-960b-b7b80682ca6c",
   "metadata": {},
   "outputs": [
    {
     "name": "stdout",
     "output_type": "stream",
     "text": [
      "Inizio\n",
      "Finito\n"
     ]
    }
   ],
   "source": [
    "orario = 23\n",
    "limite = 22\n",
    "print(\"Inizio\")\n",
    "if orario < limite:\n",
    "    print(\"ok, si può eseguire l'operazione\")\n",
    "print(\"Finito\")"
   ]
  },
  {
   "cell_type": "markdown",
   "id": "e6e944a6-63f2-4a32-ace8-da57811fd69c",
   "metadata": {},
   "source": []
  },
  {
   "cell_type": "code",
   "execution_count": 20,
   "id": "a85c3a17-3cba-48f4-986e-86e12e0cd07f",
   "metadata": {},
   "outputs": [
    {
     "data": {
      "text/plain": [
       "True"
      ]
     },
     "execution_count": 20,
     "metadata": {},
     "output_type": "execute_result"
    }
   ],
   "source": [
    "orario > limite"
   ]
  },
  {
   "cell_type": "code",
   "execution_count": 21,
   "id": "43fe5fe2-72d7-47ac-a312-2c931891d38a",
   "metadata": {},
   "outputs": [
    {
     "data": {
      "text/plain": [
       "5"
      ]
     },
     "execution_count": 21,
     "metadata": {},
     "output_type": "execute_result"
    }
   ],
   "source": [
    "2 + 3"
   ]
  },
  {
   "cell_type": "code",
   "execution_count": 22,
   "id": "bb5e8bf9-337c-47a9-93d2-f26d17dfa09d",
   "metadata": {},
   "outputs": [],
   "source": [
    "prodotti = [\"maglie\", \"pantaloni\", \"cappotti\", \"sciarpe\", \"guanti\"]"
   ]
  },
  {
   "cell_type": "code",
   "execution_count": 23,
   "id": "a1f27ed8-5d7e-4838-b2b0-6313b183dffb",
   "metadata": {},
   "outputs": [
    {
     "data": {
      "text/plain": [
       "True"
      ]
     },
     "execution_count": 23,
     "metadata": {},
     "output_type": "execute_result"
    }
   ],
   "source": [
    "\"calzini\" not in prodotti"
   ]
  },
  {
   "cell_type": "code",
   "execution_count": 24,
   "id": "d2b0624e-4627-4a81-abe3-acba1dbcbe0b",
   "metadata": {},
   "outputs": [
    {
     "data": {
      "text/plain": [
       "dict"
      ]
     },
     "execution_count": 24,
     "metadata": {},
     "output_type": "execute_result"
    }
   ],
   "source": [
    "type(rubrica)"
   ]
  },
  {
   "cell_type": "code",
   "execution_count": 25,
   "id": "c8c0da4c-8110-4795-86c5-9b0fe67bb856",
   "metadata": {},
   "outputs": [
    {
     "data": {
      "text/plain": [
       "4"
      ]
     },
     "execution_count": 25,
     "metadata": {},
     "output_type": "execute_result"
    }
   ],
   "source": [
    "int(4.5)"
   ]
  },
  {
   "cell_type": "code",
   "execution_count": 26,
   "id": "867f37b9-9300-4f49-acf0-25af5d8c92b2",
   "metadata": {},
   "outputs": [
    {
     "data": {
      "text/plain": [
       "477"
      ]
     },
     "execution_count": 26,
     "metadata": {},
     "output_type": "execute_result"
    }
   ],
   "source": [
    "int( \"467\" ) + 10"
   ]
  },
  {
   "cell_type": "code",
   "execution_count": 27,
   "id": "765575d8-e515-4f76-a4c8-c77d66f92f37",
   "metadata": {},
   "outputs": [
    {
     "data": {
      "text/plain": [
       "'123'"
      ]
     },
     "execution_count": 27,
     "metadata": {},
     "output_type": "execute_result"
    }
   ],
   "source": [
    "str( 123 )"
   ]
  },
  {
   "cell_type": "code",
   "execution_count": 28,
   "id": "3a728639-19fe-4bde-b399-d71d388a6918",
   "metadata": {},
   "outputs": [
    {
     "name": "stdin",
     "output_type": "stream",
     "text": [
      "Inserisci un numero 10\n"
     ]
    }
   ],
   "source": [
    "valore = input(\"Inserisci un numero\")\n",
    "valore = int(valore)  # casting"
   ]
  },
  {
   "cell_type": "code",
   "execution_count": 29,
   "id": "aea4c2c2-b9c6-49a5-8679-88f284c29bf6",
   "metadata": {},
   "outputs": [
    {
     "data": {
      "text/plain": [
       "int"
      ]
     },
     "execution_count": 29,
     "metadata": {},
     "output_type": "execute_result"
    }
   ],
   "source": [
    "type(valore)"
   ]
  },
  {
   "cell_type": "code",
   "execution_count": 30,
   "id": "3c96190a-2371-4574-875a-9eea14fbb0de",
   "metadata": {},
   "outputs": [
    {
     "data": {
      "text/plain": [
       "4"
      ]
     },
     "execution_count": 30,
     "metadata": {},
     "output_type": "execute_result"
    }
   ],
   "source": [
    "int(4.9)"
   ]
  },
  {
   "cell_type": "code",
   "execution_count": 31,
   "id": "8c321edd-6cd9-4868-aff2-7a6fd1ade2bd",
   "metadata": {},
   "outputs": [],
   "source": [
    "prodotti = [\"penna\", \"pastello\", \"penna\", \"gomma\", \"penna\", \"pastello\"]"
   ]
  },
  {
   "cell_type": "code",
   "execution_count": 32,
   "id": "c42b33a3-a0b3-45a3-b658-ab5d472b5fc2",
   "metadata": {},
   "outputs": [
    {
     "data": {
      "text/plain": [
       "{'gomma', 'pastello', 'penna'}"
      ]
     },
     "execution_count": 32,
     "metadata": {},
     "output_type": "execute_result"
    }
   ],
   "source": [
    "set( prodotti )"
   ]
  },
  {
   "cell_type": "code",
   "execution_count": 33,
   "id": "d505a7d7-ac31-44a3-9958-144ee84764f0",
   "metadata": {},
   "outputs": [
    {
     "name": "stdin",
     "output_type": "stream",
     "text": [
      "inserisci un numero 10\n"
     ]
    },
    {
     "name": "stdout",
     "output_type": "stream",
     "text": [
      "La variabile 'num' è: 10 e la 'somma' è: 10\n"
     ]
    },
    {
     "name": "stdin",
     "output_type": "stream",
     "text": [
      "inserisci un numero 20\n"
     ]
    },
    {
     "name": "stdout",
     "output_type": "stream",
     "text": [
      "La variabile 'num' è: 20 e la 'somma' è: 30\n"
     ]
    },
    {
     "name": "stdin",
     "output_type": "stream",
     "text": [
      "inserisci un numero 30\n"
     ]
    },
    {
     "name": "stdout",
     "output_type": "stream",
     "text": [
      "La variabile 'num' è: 30 e la 'somma' è: 60\n",
      "La somma finale è: 60\n"
     ]
    }
   ],
   "source": [
    "somma = 0  # init\n",
    "\n",
    "while somma < 50:\n",
    "    num = input(\"inserisci un numero\")\n",
    "    num = int(num)\n",
    "    somma += num  # aggiornamento\n",
    "    print(\"La variabile 'num' è:\", num, \"e la 'somma' è:\", somma)\n",
    "\n",
    "print(\"La somma finale è:\", somma)"
   ]
  },
  {
   "cell_type": "code",
   "execution_count": 34,
   "id": "5b081345-1a70-4d7c-8665-eb11a22169a3",
   "metadata": {},
   "outputs": [
    {
     "name": "stdin",
     "output_type": "stream",
     "text": [
      "Inserisci un numero tra 0 e 50 100\n",
      "Numero errato, deve essere tra 0 e 50, inserisci un nuovo valore 200\n",
      "Numero errato, deve essere tra 0 e 50, inserisci un nuovo valore 300\n",
      "Numero errato, deve essere tra 0 e 50, inserisci un nuovo valore 20\n"
     ]
    }
   ],
   "source": [
    "num = int( input(\"Inserisci un numero tra 0 e 50\") )\n",
    "while num < 0 or num > 50:\n",
    "    num = int( input(\"Numero errato, deve essere tra 0 e 50, inserisci un nuovo valore\") )\n",
    "    "
   ]
  },
  {
   "cell_type": "code",
   "execution_count": 35,
   "id": "b0a35c4d-af4f-4861-8a65-e1b23f74dc36",
   "metadata": {},
   "outputs": [
    {
     "name": "stdout",
     "output_type": "stream",
     "text": [
      "Prezzo precedente: 10 nuovo prezzo: 9.0\n",
      "Prezzo precedente: 20 nuovo prezzo: 18.0\n",
      "Prezzo precedente: 50 nuovo prezzo: 45.0\n",
      "Prezzo precedente: 60 nuovo prezzo: 30.0\n",
      "Prezzo precedente: 80 nuovo prezzo: 40.0\n",
      "Prezzo precedente: 90 nuovo prezzo: 45.0\n",
      "Prezzo precedente: 100 nuovo prezzo: 50.0\n",
      "Ho finito, la lista risultante è: [9.0, 18.0, 45.0, 30.0, 40.0, 45.0, 50.0]\n"
     ]
    }
   ],
   "source": [
    "prezzi = [10, 20, 50, 60, 80, 90, 100]\n",
    "nuovi_prezzi = []\n",
    "sconto1 = 10  #%\n",
    "sconto2 = 50  #%\n",
    "\n",
    "for prezzo in prezzi:\n",
    "    if prezzo <= 50:\n",
    "        nuovo_prezzo = prezzo * (100-sconto1)/100\n",
    "    else:\n",
    "        nuovo_prezzo = prezzo * (100-sconto2)/100\n",
    "    nuovi_prezzi.append( nuovo_prezzo )\n",
    "    print(\"Prezzo precedente:\", prezzo, \"nuovo prezzo:\", nuovo_prezzo)\n",
    "\n",
    "print(\"Ho finito, la lista risultante è:\", nuovi_prezzi)"
   ]
  },
  {
   "cell_type": "code",
   "execution_count": 36,
   "id": "94849c48-735a-42e7-874a-0c7bf3884142",
   "metadata": {},
   "outputs": [
    {
     "data": {
      "text/plain": [
       "[9.0, 18.0, 45.0, 30.0, 40.0, 45.0, 50.0]"
      ]
     },
     "execution_count": 36,
     "metadata": {},
     "output_type": "execute_result"
    }
   ],
   "source": [
    "nuovi_prezzi"
   ]
  },
  {
   "cell_type": "code",
   "execution_count": 37,
   "id": "0db1e08d-8f19-4235-a01f-e137c042d05d",
   "metadata": {},
   "outputs": [
    {
     "name": "stdout",
     "output_type": "stream",
     "text": [
      "1\n",
      "3\n",
      "6\n",
      "10\n",
      "15\n"
     ]
    }
   ],
   "source": [
    "num = 1  # init\n",
    "somma = 0  # init\n",
    "while num <= 5:\n",
    "    somma += num\n",
    "    print(somma)\n",
    "    num += 1  # aggiornamento"
   ]
  },
  {
   "cell_type": "code",
   "execution_count": 38,
   "id": "58d64a90-f5b7-4b32-8886-13b6f6fc6a22",
   "metadata": {},
   "outputs": [
    {
     "name": "stdout",
     "output_type": "stream",
     "text": [
      "68\n",
      "10\n",
      "16\n",
      "40\n",
      "30\n"
     ]
    }
   ],
   "source": [
    "for valore in magazzino.values():\n",
    "    print(valore * 2)"
   ]
  }
 ],
 "metadata": {
  "kernelspec": {
   "display_name": "Python 3 (ipykernel)",
   "language": "python",
   "name": "python3"
  },
  "language_info": {
   "codemirror_mode": {
    "name": "ipython",
    "version": 3
   },
   "file_extension": ".py",
   "mimetype": "text/x-python",
   "name": "python",
   "nbconvert_exporter": "python",
   "pygments_lexer": "ipython3",
   "version": "3.10.9"
  }
 },
 "nbformat": 4,
 "nbformat_minor": 5
}

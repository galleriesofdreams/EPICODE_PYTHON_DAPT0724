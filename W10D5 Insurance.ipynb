{
 "cells": [
  {
   "cell_type": "markdown",
   "id": "ca6f060e-ab36-4e9d-8937-cef79a6de76c",
   "metadata": {},
   "source": [
    "**Esercizio** Il dataset insurance.csv contiene dati rispetto a caratteristiche e abitudini delle persone, e della zona in cui vivono, rispetto ai costi individuali per le cure mediche come premio per le assicurazioni sulla salute. \n",
    "\n",
    "• Visualizziamone le dimensioni, un'anteprima, e osserviamo i nomi di colonna; \n",
    "\n",
    "• Quali sono le medie di charges rispetto a region? Ci sono differenze significative? \n",
    "\n",
    "• E rispetto a smoker? E a sex? \n",
    "\n",
    "• Quali sono i descrittori statistici di bmi? Quali sono minimo, media e massimo di charges rispetto ai diversi quartili dei valori di bmi?"
   ]
  },
  {
   "cell_type": "code",
   "execution_count": 4,
   "id": "88d9364e-3f70-4f33-8b41-9f08bb70b741",
   "metadata": {},
   "outputs": [],
   "source": [
    "import os\n",
    "import dotenv\n",
    "import sqlalchemy\n",
    "import pandas as pd\n",
    "df = pd.read_csv(r\"C:\\Users\\patri\\OneDrive\\Documents\\Epicode Data Analyst\\Modulo 3 - Python\\W10D5\\datasets\\datasets\\beginner_datasets\\insurance.csv\")"
   ]
  },
  {
   "cell_type": "code",
   "execution_count": 6,
   "id": "3f198cf3-2f7d-4ff1-8522-51e21345775b",
   "metadata": {},
   "outputs": [
    {
     "data": {
      "text/html": [
       "<div>\n",
       "<style scoped>\n",
       "    .dataframe tbody tr th:only-of-type {\n",
       "        vertical-align: middle;\n",
       "    }\n",
       "\n",
       "    .dataframe tbody tr th {\n",
       "        vertical-align: top;\n",
       "    }\n",
       "\n",
       "    .dataframe thead th {\n",
       "        text-align: right;\n",
       "    }\n",
       "</style>\n",
       "<table border=\"1\" class=\"dataframe\">\n",
       "  <thead>\n",
       "    <tr style=\"text-align: right;\">\n",
       "      <th></th>\n",
       "      <th>age</th>\n",
       "      <th>sex</th>\n",
       "      <th>bmi</th>\n",
       "      <th>children</th>\n",
       "      <th>smoker</th>\n",
       "      <th>region</th>\n",
       "      <th>charges</th>\n",
       "    </tr>\n",
       "  </thead>\n",
       "  <tbody>\n",
       "    <tr>\n",
       "      <th>0</th>\n",
       "      <td>19</td>\n",
       "      <td>female</td>\n",
       "      <td>27.900</td>\n",
       "      <td>0</td>\n",
       "      <td>yes</td>\n",
       "      <td>southwest</td>\n",
       "      <td>16884.92400</td>\n",
       "    </tr>\n",
       "    <tr>\n",
       "      <th>1</th>\n",
       "      <td>18</td>\n",
       "      <td>male</td>\n",
       "      <td>33.770</td>\n",
       "      <td>1</td>\n",
       "      <td>no</td>\n",
       "      <td>southeast</td>\n",
       "      <td>1725.55230</td>\n",
       "    </tr>\n",
       "    <tr>\n",
       "      <th>2</th>\n",
       "      <td>28</td>\n",
       "      <td>male</td>\n",
       "      <td>33.000</td>\n",
       "      <td>3</td>\n",
       "      <td>no</td>\n",
       "      <td>southeast</td>\n",
       "      <td>4449.46200</td>\n",
       "    </tr>\n",
       "    <tr>\n",
       "      <th>3</th>\n",
       "      <td>33</td>\n",
       "      <td>male</td>\n",
       "      <td>22.705</td>\n",
       "      <td>0</td>\n",
       "      <td>no</td>\n",
       "      <td>northwest</td>\n",
       "      <td>21984.47061</td>\n",
       "    </tr>\n",
       "    <tr>\n",
       "      <th>4</th>\n",
       "      <td>32</td>\n",
       "      <td>male</td>\n",
       "      <td>28.880</td>\n",
       "      <td>0</td>\n",
       "      <td>no</td>\n",
       "      <td>northwest</td>\n",
       "      <td>3866.85520</td>\n",
       "    </tr>\n",
       "    <tr>\n",
       "      <th>5</th>\n",
       "      <td>31</td>\n",
       "      <td>female</td>\n",
       "      <td>25.740</td>\n",
       "      <td>0</td>\n",
       "      <td>no</td>\n",
       "      <td>southeast</td>\n",
       "      <td>3756.62160</td>\n",
       "    </tr>\n",
       "    <tr>\n",
       "      <th>6</th>\n",
       "      <td>46</td>\n",
       "      <td>female</td>\n",
       "      <td>33.440</td>\n",
       "      <td>1</td>\n",
       "      <td>no</td>\n",
       "      <td>southeast</td>\n",
       "      <td>8240.58960</td>\n",
       "    </tr>\n",
       "    <tr>\n",
       "      <th>7</th>\n",
       "      <td>37</td>\n",
       "      <td>female</td>\n",
       "      <td>27.740</td>\n",
       "      <td>3</td>\n",
       "      <td>no</td>\n",
       "      <td>northwest</td>\n",
       "      <td>7281.50560</td>\n",
       "    </tr>\n",
       "    <tr>\n",
       "      <th>8</th>\n",
       "      <td>37</td>\n",
       "      <td>male</td>\n",
       "      <td>29.830</td>\n",
       "      <td>2</td>\n",
       "      <td>no</td>\n",
       "      <td>northeast</td>\n",
       "      <td>6406.41070</td>\n",
       "    </tr>\n",
       "    <tr>\n",
       "      <th>9</th>\n",
       "      <td>60</td>\n",
       "      <td>female</td>\n",
       "      <td>25.840</td>\n",
       "      <td>0</td>\n",
       "      <td>no</td>\n",
       "      <td>northwest</td>\n",
       "      <td>28923.13692</td>\n",
       "    </tr>\n",
       "  </tbody>\n",
       "</table>\n",
       "</div>"
      ],
      "text/plain": [
       "   age     sex     bmi  children smoker     region      charges\n",
       "0   19  female  27.900         0    yes  southwest  16884.92400\n",
       "1   18    male  33.770         1     no  southeast   1725.55230\n",
       "2   28    male  33.000         3     no  southeast   4449.46200\n",
       "3   33    male  22.705         0     no  northwest  21984.47061\n",
       "4   32    male  28.880         0     no  northwest   3866.85520\n",
       "5   31  female  25.740         0     no  southeast   3756.62160\n",
       "6   46  female  33.440         1     no  southeast   8240.58960\n",
       "7   37  female  27.740         3     no  northwest   7281.50560\n",
       "8   37    male  29.830         2     no  northeast   6406.41070\n",
       "9   60  female  25.840         0     no  northwest  28923.13692"
      ]
     },
     "execution_count": 6,
     "metadata": {},
     "output_type": "execute_result"
    }
   ],
   "source": [
    "df.head(10)"
   ]
  },
  {
   "cell_type": "code",
   "execution_count": 8,
   "id": "50d5779f-9237-4802-b3e6-433f241949b9",
   "metadata": {},
   "outputs": [
    {
     "data": {
      "text/plain": [
       "(1338, 7)"
      ]
     },
     "execution_count": 8,
     "metadata": {},
     "output_type": "execute_result"
    }
   ],
   "source": [
    "df.shape"
   ]
  },
  {
   "cell_type": "code",
   "execution_count": 10,
   "id": "31b1d000-8e4f-450e-9ef3-51e7665fc79e",
   "metadata": {},
   "outputs": [
    {
     "data": {
      "text/plain": [
       "array(['southwest', 'southeast', 'northwest', 'northeast'], dtype=object)"
      ]
     },
     "execution_count": 10,
     "metadata": {},
     "output_type": "execute_result"
    }
   ],
   "source": [
    "df[\"region\"].unique() # Quali sono le medie di charges rispetto a region? Ci sono differenze significative?"
   ]
  },
  {
   "cell_type": "code",
   "execution_count": 12,
   "id": "ec37525f-e4fe-4f5e-b3a0-c361744c062a",
   "metadata": {},
   "outputs": [],
   "source": [
    "f_southwest = df.loc[:, \"region\"] == \"southwest\"\n",
    "f_southeast = df.loc[:, \"region\"] == \"southeast\"\n",
    "f_northwest = df.loc[:, \"region\"] == \"northwest\"\n",
    "f_northeast = df.loc[:, \"region\"] == \"northeast\""
   ]
  },
  {
   "cell_type": "code",
   "execution_count": 14,
   "id": "c81bdf00-c632-4e76-8997-7f09826074ca",
   "metadata": {},
   "outputs": [
    {
     "name": "stdout",
     "output_type": "stream",
     "text": [
      "Media SudOvest: 12346.937377292308\n"
     ]
    }
   ],
   "source": [
    "charges_sw = df.loc[f_southwest, \"charges\"].mean()\n",
    "print(f\"Media SudOvest: {charges_sw}\")"
   ]
  },
  {
   "cell_type": "code",
   "execution_count": 16,
   "id": "63ed5c2f-d06f-4946-8672-cabf24dc0f59",
   "metadata": {},
   "outputs": [
    {
     "name": "stdout",
     "output_type": "stream",
     "text": [
      "Media SudEst: 14735.411437609888\n"
     ]
    }
   ],
   "source": [
    "charges_se = df.loc[f_southeast, \"charges\"].mean()\n",
    "print(f\"Media SudEst: {charges_se}\")"
   ]
  },
  {
   "cell_type": "code",
   "execution_count": 18,
   "id": "aabae6f9-baff-4b32-bfbe-e8c113c73629",
   "metadata": {},
   "outputs": [
    {
     "name": "stdout",
     "output_type": "stream",
     "text": [
      "Media NordOvest: 12417.57537396923\n"
     ]
    }
   ],
   "source": [
    "charges_nw = df.loc[f_northwest, \"charges\"].mean()\n",
    "print(f\"Media NordOvest: {charges_nw}\")"
   ]
  },
  {
   "cell_type": "code",
   "execution_count": 20,
   "id": "3e78c0b7-60a7-49f1-8477-06c448fc1eb8",
   "metadata": {},
   "outputs": [
    {
     "name": "stdout",
     "output_type": "stream",
     "text": [
      "Media NordEst: 13406.384516385804\n"
     ]
    }
   ],
   "source": [
    "charges_ne = df.loc[f_northeast, \"charges\"].mean()\n",
    "print(f\"Media NordEst: {charges_ne}\")"
   ]
  },
  {
   "cell_type": "code",
   "execution_count": 22,
   "id": "85d0b337-fa75-4364-8bc6-0b86ff32db67",
   "metadata": {},
   "outputs": [
    {
     "name": "stdout",
     "output_type": "stream",
     "text": [
      "Smokers Avg Charge: 32050.23183153284\n",
      "Female Avg Charge: 12569.578843835347\n",
      "Male Avg Charge: 13956.751177721893\n"
     ]
    }
   ],
   "source": [
    "smoker = df.loc[:, \"smoker\"] == \"yes\"\n",
    "charges_smoker = df.loc[smoker, \"charges\"].mean()\n",
    "print(f\"Smokers Avg Charge: {charges_smoker}\")\n",
    "\n",
    "sexf = df.loc[:, \"sex\"] == \"female\"\n",
    "charges_f = df.loc[sexf, \"charges\"].mean()\n",
    "print(f\"Female Avg Charge: {charges_f}\")\n",
    "\n",
    "sexm = df.loc[:, \"sex\"] == \"male\"\n",
    "charges_m = df.loc[sexm, \"charges\"].mean()\n",
    "print(f\"Male Avg Charge: {charges_m}\")\n",
    "# E rispetto a smoker? E a sex?"
   ]
  },
  {
   "cell_type": "code",
   "execution_count": 24,
   "id": "f9ec9794-1aae-4028-b1c8-27a15c9cc3d7",
   "metadata": {},
   "outputs": [
    {
     "data": {
      "text/plain": [
       "count    1338.000000\n",
       "mean       30.663397\n",
       "std         6.098187\n",
       "min        15.960000\n",
       "25%        26.296250\n",
       "50%        30.400000\n",
       "75%        34.693750\n",
       "max        53.130000\n",
       "Name: bmi, dtype: float64"
      ]
     },
     "execution_count": 24,
     "metadata": {},
     "output_type": "execute_result"
    }
   ],
   "source": [
    "df[\"bmi\"].describe() # Quali sono i descrittori statistici di bmi? "
   ]
  },
  {
   "cell_type": "code",
   "execution_count": 26,
   "id": "a985e770-01c9-4c34-971f-c20b1165d8f0",
   "metadata": {},
   "outputs": [],
   "source": [
    "# Quali sono minimo, media e massimo di charges rispetto ai diversi quartili dei valori di bmi?\n",
    "q1 = df[\"bmi\"].quantile(0.25) \n",
    "q2 = df[\"bmi\"].quantile(0.50)\n",
    "q3 = df[\"bmi\"].quantile(0.75)"
   ]
  },
  {
   "cell_type": "code",
   "execution_count": 28,
   "id": "834cc3be-f643-472d-b7b5-ca0b44dfc3c6",
   "metadata": {},
   "outputs": [],
   "source": [
    "filtro_q1 = df[\"bmi\"] <= q1\n",
    "filtro_q2 = (df[\"bmi\"] > q1) & (df[\"bmi\"] <= q2)\n",
    "filtro_q3 = (df[\"bmi\"] > q2) & (df[\"bmi\"] <= q3)\n",
    "filtro_q4 = df[\"bmi\"] > q3\n",
    "\n",
    "min_q1, mean_q1, max_q1 = df.loc[filtro_q1, \"charges\"].min(), df.loc[filtro_q1, \"charges\"].mean(), df.loc[filtro_q1, \"charges\"].max()\n",
    "min_q2, mean_q2, max_q2 = df.loc[filtro_q2, \"charges\"].min(), df.loc[filtro_q2, \"charges\"].mean(), df.loc[filtro_q2, \"charges\"].max()\n",
    "min_q3, mean_q3, max_q3 = df.loc[filtro_q3, \"charges\"].min(), df.loc[filtro_q3, \"charges\"].mean(), df.loc[filtro_q3, \"charges\"].max()\n",
    "min_q4, mean_q4, max_q4 = df.loc[filtro_q4, \"charges\"].min(), df.loc[filtro_q4, \"charges\"].mean(), df.loc[filtro_q4, \"charges\"].max()"
   ]
  },
  {
   "cell_type": "code",
   "execution_count": 30,
   "id": "492d2ae8-11b5-4a2a-92f5-99598b825fb2",
   "metadata": {},
   "outputs": [
    {
     "name": "stdout",
     "output_type": "stream",
     "text": [
      "Q1 (<= 26.29625): Min: 1121.8739, Mean: 10360.662825492538, Max: 38245.59327\n",
      "Q2 (> 26.29625 & <= 30.4): Min: 1131.5066, Mean: 11407.831467689348, Max: 62592.87309\n",
      "Q3 (> 30.4 & <= 34.69375): Min: 1135.9407, Mean: 14358.17308081818, Max: 60021.39897\n",
      "Q4 (> 34.69375): Min: 1141.4451, Mean: 16987.936690955226, Max: 63770.42801\n"
     ]
    }
   ],
   "source": [
    "print(f\"Q1 (<= {q1}): Min: {min_q1}, Mean: {mean_q1}, Max: {max_q1}\")\n",
    "print(f\"Q2 (> {q1} & <= {q2}): Min: {min_q2}, Mean: {mean_q2}, Max: {max_q2}\")\n",
    "print(f\"Q3 (> {q2} & <= {q3}): Min: {min_q3}, Mean: {mean_q3}, Max: {max_q3}\")\n",
    "print(f\"Q4 (> {q3}): Min: {min_q4}, Mean: {mean_q4}, Max: {max_q4}\")\n"
   ]
  },
  {
   "cell_type": "code",
   "execution_count": null,
   "id": "989d31b1-6463-4d69-8ee2-5959c07a415c",
   "metadata": {},
   "outputs": [],
   "source": []
  }
 ],
 "metadata": {
  "kernelspec": {
   "display_name": "Python [conda env:base] *",
   "language": "python",
   "name": "conda-base-py"
  },
  "language_info": {
   "codemirror_mode": {
    "name": "ipython",
    "version": 3
   },
   "file_extension": ".py",
   "mimetype": "text/x-python",
   "name": "python",
   "nbconvert_exporter": "python",
   "pygments_lexer": "ipython3",
   "version": "3.12.7"
  }
 },
 "nbformat": 4,
 "nbformat_minor": 5
}

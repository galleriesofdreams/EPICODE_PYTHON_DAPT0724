{
 "cells": [
  {
   "cell_type": "markdown",
   "id": "eff1b78e-a13a-4d6c-bfe6-c48dae28913e",
   "metadata": {},
   "source": [
    "**Esercizio** Il dataset insurance.csv dei beginner_datasets contiene dati su caratteristiche e abitudini delle persone rispetto ai costi individuali per le cure mediche come premio per le assicurazioni sulla salute. "
   ]
  },
  {
   "cell_type": "code",
   "execution_count": 48,
   "id": "6e3a1caf-d899-4168-bb32-003e17f4a53e",
   "metadata": {},
   "outputs": [],
   "source": [
    "import pandas as pd\n",
    "df = pd.read_csv(r\"C:\\Users\\patri\\OneDrive\\Documents\\Epicode Data Analyst\\Modulo 3 - Python\\datasets\\beginner_datasets\\insurance.csv\")"
   ]
  },
  {
   "cell_type": "code",
   "execution_count": 50,
   "id": "6fb4d4ec-fdf8-419f-92b9-141606b95289",
   "metadata": {},
   "outputs": [
    {
     "data": {
      "text/plain": [
       "(1338, 7)"
      ]
     },
     "execution_count": 50,
     "metadata": {},
     "output_type": "execute_result"
    }
   ],
   "source": [
    "# Visualizziamone le dimensioni, un'anteprima, e osserviamo i nomi di colonna\n",
    "df.shape"
   ]
  },
  {
   "cell_type": "code",
   "execution_count": 52,
   "id": "50b53e80-82d8-4c2a-87c9-289991998f43",
   "metadata": {},
   "outputs": [
    {
     "data": {
      "text/html": [
       "<div>\n",
       "<style scoped>\n",
       "    .dataframe tbody tr th:only-of-type {\n",
       "        vertical-align: middle;\n",
       "    }\n",
       "\n",
       "    .dataframe tbody tr th {\n",
       "        vertical-align: top;\n",
       "    }\n",
       "\n",
       "    .dataframe thead th {\n",
       "        text-align: right;\n",
       "    }\n",
       "</style>\n",
       "<table border=\"1\" class=\"dataframe\">\n",
       "  <thead>\n",
       "    <tr style=\"text-align: right;\">\n",
       "      <th></th>\n",
       "      <th>age</th>\n",
       "      <th>sex</th>\n",
       "      <th>bmi</th>\n",
       "      <th>children</th>\n",
       "      <th>smoker</th>\n",
       "      <th>region</th>\n",
       "      <th>charges</th>\n",
       "    </tr>\n",
       "  </thead>\n",
       "  <tbody>\n",
       "    <tr>\n",
       "      <th>0</th>\n",
       "      <td>19</td>\n",
       "      <td>female</td>\n",
       "      <td>27.900</td>\n",
       "      <td>0</td>\n",
       "      <td>yes</td>\n",
       "      <td>southwest</td>\n",
       "      <td>16884.92400</td>\n",
       "    </tr>\n",
       "    <tr>\n",
       "      <th>1</th>\n",
       "      <td>18</td>\n",
       "      <td>male</td>\n",
       "      <td>33.770</td>\n",
       "      <td>1</td>\n",
       "      <td>no</td>\n",
       "      <td>southeast</td>\n",
       "      <td>1725.55230</td>\n",
       "    </tr>\n",
       "    <tr>\n",
       "      <th>2</th>\n",
       "      <td>28</td>\n",
       "      <td>male</td>\n",
       "      <td>33.000</td>\n",
       "      <td>3</td>\n",
       "      <td>no</td>\n",
       "      <td>southeast</td>\n",
       "      <td>4449.46200</td>\n",
       "    </tr>\n",
       "    <tr>\n",
       "      <th>3</th>\n",
       "      <td>33</td>\n",
       "      <td>male</td>\n",
       "      <td>22.705</td>\n",
       "      <td>0</td>\n",
       "      <td>no</td>\n",
       "      <td>northwest</td>\n",
       "      <td>21984.47061</td>\n",
       "    </tr>\n",
       "    <tr>\n",
       "      <th>4</th>\n",
       "      <td>32</td>\n",
       "      <td>male</td>\n",
       "      <td>28.880</td>\n",
       "      <td>0</td>\n",
       "      <td>no</td>\n",
       "      <td>northwest</td>\n",
       "      <td>3866.85520</td>\n",
       "    </tr>\n",
       "  </tbody>\n",
       "</table>\n",
       "</div>"
      ],
      "text/plain": [
       "   age     sex     bmi  children smoker     region      charges\n",
       "0   19  female  27.900         0    yes  southwest  16884.92400\n",
       "1   18    male  33.770         1     no  southeast   1725.55230\n",
       "2   28    male  33.000         3     no  southeast   4449.46200\n",
       "3   33    male  22.705         0     no  northwest  21984.47061\n",
       "4   32    male  28.880         0     no  northwest   3866.85520"
      ]
     },
     "execution_count": 52,
     "metadata": {},
     "output_type": "execute_result"
    }
   ],
   "source": [
    "df.head(5)"
   ]
  },
  {
   "cell_type": "code",
   "execution_count": 54,
   "id": "5b5aa029-463b-42a9-a9e4-4cf2b2f51942",
   "metadata": {},
   "outputs": [
    {
     "data": {
      "text/plain": [
       "region\n",
       "northeast    13406.384516\n",
       "northwest    12417.575374\n",
       "southeast    14735.411438\n",
       "southwest    12346.937377\n",
       "Name: charges, dtype: float64"
      ]
     },
     "execution_count": 54,
     "metadata": {},
     "output_type": "execute_result"
    }
   ],
   "source": [
    "# Quali sono le medie di charges rispetto a region? Ci sono differenze significative? \n",
    "region_avg = df.groupby(\"region\").charges.mean()\n",
    "region_avg"
   ]
  },
  {
   "cell_type": "code",
   "execution_count": 56,
   "id": "88b46c00-e7f2-45a6-b5c4-8600ad959f45",
   "metadata": {},
   "outputs": [
    {
     "data": {
      "text/plain": [
       "smoker\n",
       "no      8434.268298\n",
       "yes    32050.231832\n",
       "Name: charges, dtype: float64"
      ]
     },
     "execution_count": 56,
     "metadata": {},
     "output_type": "execute_result"
    }
   ],
   "source": [
    "# E rispetto a smoker? E a sex? \n",
    "smoker_avg = df.groupby(\"smoker\").charges.mean()\n",
    "smoker_avg"
   ]
  },
  {
   "cell_type": "code",
   "execution_count": 58,
   "id": "b5df6697-5c93-46f6-8309-61fab3a36cae",
   "metadata": {},
   "outputs": [
    {
     "data": {
      "text/plain": [
       "sex\n",
       "female    12569.578844\n",
       "male      13956.751178\n",
       "Name: charges, dtype: float64"
      ]
     },
     "execution_count": 58,
     "metadata": {},
     "output_type": "execute_result"
    }
   ],
   "source": [
    "sex_avg = df.groupby(\"sex\").charges.mean()\n",
    "sex_avg"
   ]
  },
  {
   "cell_type": "code",
   "execution_count": 60,
   "id": "f9404daf-8466-4cf5-a8c9-688742257c8a",
   "metadata": {},
   "outputs": [
    {
     "data": {
      "text/plain": [
       "count    1338.000000\n",
       "mean       30.663397\n",
       "std         6.098187\n",
       "min        15.960000\n",
       "25%        26.296250\n",
       "50%        30.400000\n",
       "75%        34.693750\n",
       "max        53.130000\n",
       "Name: bmi, dtype: float64"
      ]
     },
     "execution_count": 60,
     "metadata": {},
     "output_type": "execute_result"
    }
   ],
   "source": [
    "# Quali sono i descrittori statistici di bmi? Quali sono minimo, media e massimo di charges rispetto ai diversi quartili dei valori di bmi? \n",
    "df[\"bmi\"].describe()"
   ]
  },
  {
   "cell_type": "code",
   "execution_count": 62,
   "id": "1d1215ac-0517-455a-b126-2f01c975ace2",
   "metadata": {},
   "outputs": [
    {
     "data": {
      "text/html": [
       "<div>\n",
       "<style scoped>\n",
       "    .dataframe tbody tr th:only-of-type {\n",
       "        vertical-align: middle;\n",
       "    }\n",
       "\n",
       "    .dataframe tbody tr th {\n",
       "        vertical-align: top;\n",
       "    }\n",
       "\n",
       "    .dataframe thead th {\n",
       "        text-align: right;\n",
       "    }\n",
       "</style>\n",
       "<table border=\"1\" class=\"dataframe\">\n",
       "  <thead>\n",
       "    <tr style=\"text-align: right;\">\n",
       "      <th></th>\n",
       "      <th>min</th>\n",
       "      <th>max</th>\n",
       "      <th>mean</th>\n",
       "    </tr>\n",
       "    <tr>\n",
       "      <th>bmi</th>\n",
       "      <th></th>\n",
       "      <th></th>\n",
       "      <th></th>\n",
       "    </tr>\n",
       "  </thead>\n",
       "  <tbody>\n",
       "    <tr>\n",
       "      <th>15.960</th>\n",
       "      <td>1694.79640</td>\n",
       "      <td>1694.79640</td>\n",
       "      <td>1694.796400</td>\n",
       "    </tr>\n",
       "    <tr>\n",
       "      <th>16.815</th>\n",
       "      <td>3167.45585</td>\n",
       "      <td>6640.54485</td>\n",
       "      <td>4904.000350</td>\n",
       "    </tr>\n",
       "    <tr>\n",
       "      <th>17.195</th>\n",
       "      <td>14455.64405</td>\n",
       "      <td>14455.64405</td>\n",
       "      <td>14455.644050</td>\n",
       "    </tr>\n",
       "    <tr>\n",
       "      <th>17.290</th>\n",
       "      <td>3732.62510</td>\n",
       "      <td>12829.45510</td>\n",
       "      <td>7813.353433</td>\n",
       "    </tr>\n",
       "    <tr>\n",
       "      <th>17.385</th>\n",
       "      <td>2775.19215</td>\n",
       "      <td>2775.19215</td>\n",
       "      <td>2775.192150</td>\n",
       "    </tr>\n",
       "    <tr>\n",
       "      <th>...</th>\n",
       "      <td>...</td>\n",
       "      <td>...</td>\n",
       "      <td>...</td>\n",
       "    </tr>\n",
       "    <tr>\n",
       "      <th>48.070</th>\n",
       "      <td>9432.92530</td>\n",
       "      <td>9432.92530</td>\n",
       "      <td>9432.925300</td>\n",
       "    </tr>\n",
       "    <tr>\n",
       "      <th>49.060</th>\n",
       "      <td>11381.32540</td>\n",
       "      <td>11381.32540</td>\n",
       "      <td>11381.325400</td>\n",
       "    </tr>\n",
       "    <tr>\n",
       "      <th>50.380</th>\n",
       "      <td>2438.05520</td>\n",
       "      <td>2438.05520</td>\n",
       "      <td>2438.055200</td>\n",
       "    </tr>\n",
       "    <tr>\n",
       "      <th>52.580</th>\n",
       "      <td>44501.39820</td>\n",
       "      <td>44501.39820</td>\n",
       "      <td>44501.398200</td>\n",
       "    </tr>\n",
       "    <tr>\n",
       "      <th>53.130</th>\n",
       "      <td>1163.46270</td>\n",
       "      <td>1163.46270</td>\n",
       "      <td>1163.462700</td>\n",
       "    </tr>\n",
       "  </tbody>\n",
       "</table>\n",
       "<p>548 rows × 3 columns</p>\n",
       "</div>"
      ],
      "text/plain": [
       "                min          max          mean\n",
       "bmi                                           \n",
       "15.960   1694.79640   1694.79640   1694.796400\n",
       "16.815   3167.45585   6640.54485   4904.000350\n",
       "17.195  14455.64405  14455.64405  14455.644050\n",
       "17.290   3732.62510  12829.45510   7813.353433\n",
       "17.385   2775.19215   2775.19215   2775.192150\n",
       "...             ...          ...           ...\n",
       "48.070   9432.92530   9432.92530   9432.925300\n",
       "49.060  11381.32540  11381.32540  11381.325400\n",
       "50.380   2438.05520   2438.05520   2438.055200\n",
       "52.580  44501.39820  44501.39820  44501.398200\n",
       "53.130   1163.46270   1163.46270   1163.462700\n",
       "\n",
       "[548 rows x 3 columns]"
      ]
     },
     "execution_count": 62,
     "metadata": {},
     "output_type": "execute_result"
    }
   ],
   "source": [
    "min_max_mean = df.groupby(\"bmi\").charges.agg([\"min\",\"max\",\"mean\"])\n",
    "min_max_mean"
   ]
  }
 ],
 "metadata": {
  "kernelspec": {
   "display_name": "Python [conda env:base] *",
   "language": "python",
   "name": "conda-base-py"
  },
  "language_info": {
   "codemirror_mode": {
    "name": "ipython",
    "version": 3
   },
   "file_extension": ".py",
   "mimetype": "text/x-python",
   "name": "python",
   "nbconvert_exporter": "python",
   "pygments_lexer": "ipython3",
   "version": "3.12.7"
  }
 },
 "nbformat": 4,
 "nbformat_minor": 5
}

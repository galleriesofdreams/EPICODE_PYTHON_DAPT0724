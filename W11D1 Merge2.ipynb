{
 "cells": [
  {
   "cell_type": "markdown",
   "id": "52967a24-58d4-48c6-aa8e-b00abdaf090e",
   "metadata": {},
   "source": [
    "**Esercizio**"
   ]
  },
  {
   "cell_type": "code",
   "execution_count": 7,
   "id": "ea572653-bd44-44d6-8fa4-81340eaa9144",
   "metadata": {},
   "outputs": [],
   "source": [
    "import os\n",
    "import dotenv\n",
    "import sqlalchemy\n",
    "import pandas as pd\n",
    "dotenv.load_dotenv(override=True, dotenv_path= r\"C:\\Users\\patri\\OneDrive\\Documents\\Epicode Data Analyst\\Modulo 3 - Python\\W10D1\\.env\") \n",
    "\n",
    "username = os.getenv(\"username\") \n",
    "password = os.getenv(\"password\") \n",
    "host = os.getenv(\"host\") \n",
    "dbname = os.getenv(\"dbname\") \n",
    "connection_string = \"mysql+pymysql://\"+username+\":\"+password+\"@\"+host+\"/\"+dbname\n",
    "\n",
    "db_engine = sqlalchemy.create_engine(connection_string)"
   ]
  },
  {
   "cell_type": "code",
   "execution_count": 14,
   "id": "12c945dc-a889-4762-b597-7c5c6fc1dee3",
   "metadata": {},
   "outputs": [],
   "source": [
    "# Dal database AdventureWorksDW importiamo le tabelle dimemployee e dimemployeesalesterritory come DataFrame \n",
    "query = \"SELECT * FROM dimemployee\" \n",
    "employee = pd.read_sql(query, db_engine) \n",
    "query = \"SELECT * FROM dimemployeesalesterritory\" \n",
    "sales_terr = pd.read_sql(query, db_engine) "
   ]
  },
  {
   "cell_type": "code",
   "execution_count": 25,
   "id": "3d642a73-6b22-4232-b29a-cab102847c60",
   "metadata": {},
   "outputs": [],
   "source": [
    "# Effettuiamo un join tra i due DataFrame usando le colonne EmployeeKey \n",
    "employee_terr = pd.merge(left=employee, right=sales_terr, how=\"left\", on=\"EmployeeKey\")"
   ]
  },
  {
   "cell_type": "code",
   "execution_count": 29,
   "id": "19e850a7-fc0a-4951-9061-aa82d4165470",
   "metadata": {},
   "outputs": [
    {
     "data": {
      "text/plain": [
       "(296, 28)"
      ]
     },
     "execution_count": 29,
     "metadata": {},
     "output_type": "execute_result"
    }
   ],
   "source": [
    "# Controlliamo la dimensione del DataFrame risultante: è quella attesa? \n",
    "employee.shape"
   ]
  },
  {
   "cell_type": "code",
   "execution_count": 31,
   "id": "f84d212c-e9b7-415b-86dd-2e5f84e5903e",
   "metadata": {},
   "outputs": [
    {
     "data": {
      "text/plain": [
       "(39, 2)"
      ]
     },
     "execution_count": 31,
     "metadata": {},
     "output_type": "execute_result"
    }
   ],
   "source": [
    "sales_terr.shape"
   ]
  },
  {
   "cell_type": "code",
   "execution_count": 33,
   "id": "5cd2da79-7617-4d92-8aed-1d7bc3a086ba",
   "metadata": {},
   "outputs": [
    {
     "data": {
      "text/plain": [
       "(317, 29)"
      ]
     },
     "execution_count": 33,
     "metadata": {},
     "output_type": "execute_result"
    }
   ],
   "source": [
    "employee_terr.shape"
   ]
  },
  {
   "cell_type": "code",
   "execution_count": 78,
   "id": "47ceff7d-8684-4089-a7ed-7b61717fbde6",
   "metadata": {},
   "outputs": [],
   "source": [
    "# Importiamo ora la tabella  ed effettuiamo un join tra questa e il DataFrame risultante della join precedente, usando le colonne SalesTerritoryKey\n",
    "query = \"SELECT * FROM dimsalesterritory\" \n",
    "terr = pd.read_sql(query, db_engine)\n",
    "emp_sal_terr = pd.merge(left=employee_terr, right = terr, how=\"left\", on=\"SalesTerritoryKey\")"
   ]
  },
  {
   "cell_type": "code",
   "execution_count": 80,
   "id": "f6c420d0-5f1b-40f4-8056-3f980c368f67",
   "metadata": {},
   "outputs": [
    {
     "data": {
      "text/html": [
       "<div>\n",
       "<style scoped>\n",
       "    .dataframe tbody tr th:only-of-type {\n",
       "        vertical-align: middle;\n",
       "    }\n",
       "\n",
       "    .dataframe tbody tr th {\n",
       "        vertical-align: top;\n",
       "    }\n",
       "\n",
       "    .dataframe thead th {\n",
       "        text-align: right;\n",
       "    }\n",
       "</style>\n",
       "<table border=\"1\" class=\"dataframe\">\n",
       "  <thead>\n",
       "    <tr style=\"text-align: right;\">\n",
       "      <th></th>\n",
       "      <th>EmployeeKey</th>\n",
       "      <th>ParentEmployeeKey</th>\n",
       "      <th>EmployeeNationalIDAlternateKey</th>\n",
       "      <th>ParentEmployeeNationalIDAlternateKey</th>\n",
       "      <th>FirstName</th>\n",
       "      <th>LastName</th>\n",
       "      <th>MiddleName</th>\n",
       "      <th>NameStyle</th>\n",
       "      <th>Title</th>\n",
       "      <th>HireDate</th>\n",
       "      <th>...</th>\n",
       "      <th>SalesPersonFlag</th>\n",
       "      <th>DepartmentName</th>\n",
       "      <th>EmployeePhoto</th>\n",
       "      <th>Position</th>\n",
       "      <th>SalesTerritoryKey</th>\n",
       "      <th>SalesTerritoryAlternateKey</th>\n",
       "      <th>SalesTerritoryRegion</th>\n",
       "      <th>SalesTerritoryCountry</th>\n",
       "      <th>SalesTerritoryGroup</th>\n",
       "      <th>SalesTerritoryImage</th>\n",
       "    </tr>\n",
       "  </thead>\n",
       "  <tbody>\n",
       "    <tr>\n",
       "      <th>0</th>\n",
       "      <td>1</td>\n",
       "      <td>18.0</td>\n",
       "      <td>14417807</td>\n",
       "      <td>446466105.0</td>\n",
       "      <td>Guy</td>\n",
       "      <td>Gilbert</td>\n",
       "      <td>R</td>\n",
       "      <td>0</td>\n",
       "      <td>Production Technician - WC60</td>\n",
       "      <td>2006-01-28</td>\n",
       "      <td>...</td>\n",
       "      <td>0</td>\n",
       "      <td>Production</td>\n",
       "      <td>b'\\xff\\xd8\\xff\\xe0\\x00\\x10JFIF\\x00\\x01\\x01\\x01...</td>\n",
       "      <td>None</td>\n",
       "      <td>NaN</td>\n",
       "      <td>NaN</td>\n",
       "      <td>NaN</td>\n",
       "      <td>NaN</td>\n",
       "      <td>NaN</td>\n",
       "      <td>NaN</td>\n",
       "    </tr>\n",
       "    <tr>\n",
       "      <th>1</th>\n",
       "      <td>2</td>\n",
       "      <td>7.0</td>\n",
       "      <td>253022876</td>\n",
       "      <td>24756624.0</td>\n",
       "      <td>Kevin</td>\n",
       "      <td>Brown</td>\n",
       "      <td>F</td>\n",
       "      <td>0</td>\n",
       "      <td>Marketing Assistant</td>\n",
       "      <td>2006-08-26</td>\n",
       "      <td>...</td>\n",
       "      <td>0</td>\n",
       "      <td>Marketing</td>\n",
       "      <td>b'\\xff\\xd8\\xff\\xe0\\x00\\x10JFIF\\x00\\x01\\x01\\x01...</td>\n",
       "      <td>None</td>\n",
       "      <td>NaN</td>\n",
       "      <td>NaN</td>\n",
       "      <td>NaN</td>\n",
       "      <td>NaN</td>\n",
       "      <td>NaN</td>\n",
       "      <td>NaN</td>\n",
       "    </tr>\n",
       "  </tbody>\n",
       "</table>\n",
       "<p>2 rows × 34 columns</p>\n",
       "</div>"
      ],
      "text/plain": [
       "   EmployeeKey  ParentEmployeeKey  EmployeeNationalIDAlternateKey  \\\n",
       "0            1               18.0                        14417807   \n",
       "1            2                7.0                       253022876   \n",
       "\n",
       "   ParentEmployeeNationalIDAlternateKey FirstName LastName MiddleName  \\\n",
       "0                           446466105.0       Guy  Gilbert          R   \n",
       "1                            24756624.0     Kevin    Brown          F   \n",
       "\n",
       "   NameStyle                         Title    HireDate  ... SalesPersonFlag  \\\n",
       "0          0  Production Technician - WC60  2006-01-28  ...               0   \n",
       "1          0           Marketing Assistant  2006-08-26  ...               0   \n",
       "\n",
       "  DepartmentName                                      EmployeePhoto Position  \\\n",
       "0     Production  b'\\xff\\xd8\\xff\\xe0\\x00\\x10JFIF\\x00\\x01\\x01\\x01...     None   \n",
       "1      Marketing  b'\\xff\\xd8\\xff\\xe0\\x00\\x10JFIF\\x00\\x01\\x01\\x01...     None   \n",
       "\n",
       "  SalesTerritoryKey SalesTerritoryAlternateKey SalesTerritoryRegion  \\\n",
       "0               NaN                        NaN                  NaN   \n",
       "1               NaN                        NaN                  NaN   \n",
       "\n",
       "   SalesTerritoryCountry SalesTerritoryGroup  SalesTerritoryImage  \n",
       "0                    NaN                 NaN                  NaN  \n",
       "1                    NaN                 NaN                  NaN  \n",
       "\n",
       "[2 rows x 34 columns]"
      ]
     },
     "execution_count": 80,
     "metadata": {},
     "output_type": "execute_result"
    }
   ],
   "source": [
    "emp_sal_terr.head(2)"
   ]
  },
  {
   "cell_type": "code",
   "execution_count": 82,
   "id": "2cee19c0-ba7a-4982-8245-c2cb30286a5e",
   "metadata": {},
   "outputs": [
    {
     "data": {
      "text/plain": [
       "Index(['EmployeeKey', 'ParentEmployeeKey', 'EmployeeNationalIDAlternateKey',\n",
       "       'ParentEmployeeNationalIDAlternateKey', 'FirstName', 'LastName',\n",
       "       'MiddleName', 'NameStyle', 'Title', 'HireDate', 'BirthDate', 'LoginID',\n",
       "       'EmailAddress', 'Phone', 'MaritalStatus', 'EmergencyContactName',\n",
       "       'EmergencyContactPhone', 'SalariedFlag', 'Gender', 'PayFrequency',\n",
       "       'BaseRate', 'VacationHours', 'SickLeaveHours', 'CurrentFlag',\n",
       "       'SalesPersonFlag', 'DepartmentName', 'EmployeePhoto', 'Position',\n",
       "       'SalesTerritoryKey', 'SalesTerritoryAlternateKey',\n",
       "       'SalesTerritoryRegion', 'SalesTerritoryCountry', 'SalesTerritoryGroup',\n",
       "       'SalesTerritoryImage'],\n",
       "      dtype='object')"
      ]
     },
     "execution_count": 82,
     "metadata": {},
     "output_type": "execute_result"
    }
   ],
   "source": [
    "emp_sal_terr.columns"
   ]
  },
  {
   "cell_type": "code",
   "execution_count": 101,
   "id": "7b5eb8e1-4aa6-453f-8f2f-066ffacec43e",
   "metadata": {},
   "outputs": [
    {
     "data": {
      "text/plain": [
       "SalesTerritoryCountry  SalesTerritoryRegion\n",
       "Australia              Australia               3\n",
       "Canada                 Canada                  4\n",
       "France                 France                  4\n",
       "Germany                Germany                 3\n",
       "United Kingdom         United Kingdom          3\n",
       "United States          Central                 5\n",
       "                       Northeast               3\n",
       "                       Northwest               5\n",
       "                       Southeast               4\n",
       "                       Southwest               5\n",
       "Name: EmployeeKey, dtype: int64"
      ]
     },
     "execution_count": 101,
     "metadata": {},
     "output_type": "execute_result"
    }
   ],
   "source": [
    "# Su questo DataFrame contare quanti dipendenti ci sono per ogni paese (country) e per ogni regione (region) \n",
    "emp_sal_terr.groupby([\"SalesTerritoryCountry\",\"SalesTerritoryRegion\"]).EmployeeKey.count()"
   ]
  },
  {
   "cell_type": "code",
   "execution_count": 108,
   "id": "e80c16e1-471e-4299-954a-96eaac427110",
   "metadata": {},
   "outputs": [
    {
     "data": {
      "text/plain": [
       "SalesTerritoryCountry\n",
       "Australia         47.764433\n",
       "Canada            41.592550\n",
       "France            41.592550\n",
       "Germany           47.764433\n",
       "United Kingdom    47.764433\n",
       "United States     39.909309\n",
       "Name: BaseRate, dtype: float64"
      ]
     },
     "execution_count": 108,
     "metadata": {},
     "output_type": "execute_result"
    }
   ],
   "source": [
    "# Valutiamo la media del BaseRate per ogni paese: ci sono differenze?\n",
    "baserate_avg = emp_sal_terr.groupby(\"SalesTerritoryCountry\").BaseRate.mean()\n",
    "baserate_avg"
   ]
  },
  {
   "cell_type": "code",
   "execution_count": null,
   "id": "cc7ea62e-b056-406b-bdf6-66cbbf4d84c8",
   "metadata": {},
   "outputs": [],
   "source": []
  }
 ],
 "metadata": {
  "kernelspec": {
   "display_name": "Python [conda env:base] *",
   "language": "python",
   "name": "conda-base-py"
  },
  "language_info": {
   "codemirror_mode": {
    "name": "ipython",
    "version": 3
   },
   "file_extension": ".py",
   "mimetype": "text/x-python",
   "name": "python",
   "nbconvert_exporter": "python",
   "pygments_lexer": "ipython3",
   "version": "3.12.7"
  }
 },
 "nbformat": 4,
 "nbformat_minor": 5
}

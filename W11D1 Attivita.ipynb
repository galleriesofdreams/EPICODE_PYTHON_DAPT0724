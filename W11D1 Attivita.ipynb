{
 "cells": [
  {
   "cell_type": "markdown",
   "id": "f5a83e81-e189-48ab-8c11-481b5a90e8f7",
   "metadata": {},
   "source": [
    "**Esercizio 1/2** Andiamo sul file (in formato CSV) della mappa dei pub, circoli e locali in Italia Nota: il dataset non ha un encoding UTF-8 ma Latin1; inoltre il separatore non è una virgola, ma un punto e virgola. Dunque per leggerlo dovremo aggiungere i parametri encoding= e sep=, ad esempio: pd.read_csv(file_path, encoding=\"latin1\", sep=\";\")"
   ]
  },
  {
   "cell_type": "code",
   "execution_count": 92,
   "id": "d21a38ea-d679-49ad-b3fc-b55d8bdd69bb",
   "metadata": {},
   "outputs": [],
   "source": [
    "import pandas as pd\n",
    "df = pd.read_csv(r\"C:\\Users\\patri\\OneDrive\\Documents\\Epicode Data Analyst\\Modulo 3 - Python\\datasets\\altri_dataset\\Mappa-dei-pub-circoli-locali-in-Italia.csv\", encoding=\"latin1\", sep=\";\")"
   ]
  },
  {
   "cell_type": "markdown",
   "id": "2ab3e8a7-8176-48b1-bf8c-bec9c8fbb78c",
   "metadata": {},
   "source": [
    "**Esercizio 2/2** Esaminiamo il dataset: "
   ]
  },
  {
   "cell_type": "code",
   "execution_count": 21,
   "id": "19b7622b-7b9a-43cd-a007-74efe3114648",
   "metadata": {},
   "outputs": [
    {
     "data": {
      "text/plain": [
       "(2635, 9)"
      ]
     },
     "execution_count": 21,
     "metadata": {},
     "output_type": "execute_result"
    }
   ],
   "source": [
    "df.shape # quanti dati ci sono in totale? "
   ]
  },
  {
   "cell_type": "code",
   "execution_count": 90,
   "id": "1fec789a-9dcc-4c6b-892c-cf414ce17dc0",
   "metadata": {},
   "outputs": [
    {
     "data": {
      "text/plain": [
       "Index(['Comune', 'Provincia', 'Regione', 'Nome', 'Anno inserimento',\n",
       "       'Data e ora inserimento', 'Identificatore in OpenStreetMap',\n",
       "       'Longitudine', 'Latitudine'],\n",
       "      dtype='object')"
      ]
     },
     "execution_count": 90,
     "metadata": {},
     "output_type": "execute_result"
    }
   ],
   "source": [
    "df.columns # quali sono i metadati? "
   ]
  },
  {
   "cell_type": "code",
   "execution_count": 29,
   "id": "986aa0fa-cf1e-4b06-bd96-8f3b9c418133",
   "metadata": {},
   "outputs": [
    {
     "data": {
      "text/html": [
       "<div>\n",
       "<style scoped>\n",
       "    .dataframe tbody tr th:only-of-type {\n",
       "        vertical-align: middle;\n",
       "    }\n",
       "\n",
       "    .dataframe tbody tr th {\n",
       "        vertical-align: top;\n",
       "    }\n",
       "\n",
       "    .dataframe thead th {\n",
       "        text-align: right;\n",
       "    }\n",
       "</style>\n",
       "<table border=\"1\" class=\"dataframe\">\n",
       "  <thead>\n",
       "    <tr style=\"text-align: right;\">\n",
       "      <th></th>\n",
       "      <th>Comune</th>\n",
       "      <th>Provincia</th>\n",
       "      <th>Regione</th>\n",
       "      <th>Nome</th>\n",
       "      <th>Anno inserimento</th>\n",
       "      <th>Data e ora inserimento</th>\n",
       "      <th>Identificatore in OpenStreetMap</th>\n",
       "      <th>Longitudine</th>\n",
       "      <th>Latitudine</th>\n",
       "    </tr>\n",
       "  </thead>\n",
       "  <tbody>\n",
       "    <tr>\n",
       "      <th>0</th>\n",
       "      <td>ALTRO</td>\n",
       "      <td>ALTRO</td>\n",
       "      <td>ALTRO</td>\n",
       "      <td>NaN</td>\n",
       "      <td>2011</td>\n",
       "      <td>2011-06-25T23:17:43Z</td>\n",
       "      <td>1339088150</td>\n",
       "      <td>13.733257</td>\n",
       "      <td>45.57583</td>\n",
       "    </tr>\n",
       "  </tbody>\n",
       "</table>\n",
       "</div>"
      ],
      "text/plain": [
       "  Comune Provincia Regione Nome  Anno inserimento Data e ora inserimento  \\\n",
       "0  ALTRO     ALTRO   ALTRO  NaN              2011   2011-06-25T23:17:43Z   \n",
       "\n",
       "   Identificatore in OpenStreetMap  Longitudine  Latitudine  \n",
       "0                       1339088150    13.733257    45.57583  "
      ]
     },
     "execution_count": 29,
     "metadata": {},
     "output_type": "execute_result"
    }
   ],
   "source": [
    "df.head(1) # stampiamo il primo elemento"
   ]
  },
  {
   "cell_type": "code",
   "execution_count": 31,
   "id": "113e5663-a799-4e37-8c1d-c73509eb6418",
   "metadata": {},
   "outputs": [
    {
     "data": {
      "text/html": [
       "<div>\n",
       "<style scoped>\n",
       "    .dataframe tbody tr th:only-of-type {\n",
       "        vertical-align: middle;\n",
       "    }\n",
       "\n",
       "    .dataframe tbody tr th {\n",
       "        vertical-align: top;\n",
       "    }\n",
       "\n",
       "    .dataframe thead th {\n",
       "        text-align: right;\n",
       "    }\n",
       "</style>\n",
       "<table border=\"1\" class=\"dataframe\">\n",
       "  <thead>\n",
       "    <tr style=\"text-align: right;\">\n",
       "      <th></th>\n",
       "      <th>Comune</th>\n",
       "      <th>Provincia</th>\n",
       "      <th>Regione</th>\n",
       "      <th>Nome</th>\n",
       "      <th>Anno inserimento</th>\n",
       "      <th>Data e ora inserimento</th>\n",
       "      <th>Identificatore in OpenStreetMap</th>\n",
       "      <th>Longitudine</th>\n",
       "      <th>Latitudine</th>\n",
       "    </tr>\n",
       "  </thead>\n",
       "  <tbody>\n",
       "    <tr>\n",
       "      <th>2634</th>\n",
       "      <td>TRANI</td>\n",
       "      <td>BARLETTA-ANDRIA-TRANI</td>\n",
       "      <td>Puglia</td>\n",
       "      <td>Well's Fargo</td>\n",
       "      <td>2009</td>\n",
       "      <td>2009-08-10T12:44:03Z</td>\n",
       "      <td>387223648</td>\n",
       "      <td>16.436765</td>\n",
       "      <td>41.267264</td>\n",
       "    </tr>\n",
       "  </tbody>\n",
       "</table>\n",
       "</div>"
      ],
      "text/plain": [
       "     Comune              Provincia Regione          Nome  Anno inserimento  \\\n",
       "2634  TRANI  BARLETTA-ANDRIA-TRANI  Puglia  Well's Fargo              2009   \n",
       "\n",
       "     Data e ora inserimento  Identificatore in OpenStreetMap  Longitudine  \\\n",
       "2634   2009-08-10T12:44:03Z                        387223648    16.436765   \n",
       "\n",
       "      Latitudine  \n",
       "2634   41.267264  "
      ]
     },
     "execution_count": 31,
     "metadata": {},
     "output_type": "execute_result"
    }
   ],
   "source": [
    "df.tail(1) # stampiamo l'ultimo elemento "
   ]
  },
  {
   "cell_type": "code",
   "execution_count": 33,
   "id": "9f17370d-5a24-4931-8a5c-b50c9ce3da17",
   "metadata": {},
   "outputs": [
    {
     "data": {
      "text/html": [
       "<div>\n",
       "<style scoped>\n",
       "    .dataframe tbody tr th:only-of-type {\n",
       "        vertical-align: middle;\n",
       "    }\n",
       "\n",
       "    .dataframe tbody tr th {\n",
       "        vertical-align: top;\n",
       "    }\n",
       "\n",
       "    .dataframe thead th {\n",
       "        text-align: right;\n",
       "    }\n",
       "</style>\n",
       "<table border=\"1\" class=\"dataframe\">\n",
       "  <thead>\n",
       "    <tr style=\"text-align: right;\">\n",
       "      <th></th>\n",
       "      <th>Comune</th>\n",
       "      <th>Provincia</th>\n",
       "      <th>Regione</th>\n",
       "      <th>Nome</th>\n",
       "      <th>Anno inserimento</th>\n",
       "      <th>Data e ora inserimento</th>\n",
       "      <th>Identificatore in OpenStreetMap</th>\n",
       "      <th>Longitudine</th>\n",
       "      <th>Latitudine</th>\n",
       "    </tr>\n",
       "  </thead>\n",
       "  <tbody>\n",
       "    <tr>\n",
       "      <th>1758</th>\n",
       "      <td>GROSSETO</td>\n",
       "      <td>GROSSETO</td>\n",
       "      <td>Toscana</td>\n",
       "      <td>13 Gobbi Pub</td>\n",
       "      <td>2012</td>\n",
       "      <td>2012-04-24T15:31:48Z</td>\n",
       "      <td>1729090160</td>\n",
       "      <td>11.113976</td>\n",
       "      <td>42.759107</td>\n",
       "    </tr>\n",
       "  </tbody>\n",
       "</table>\n",
       "</div>"
      ],
      "text/plain": [
       "        Comune Provincia  Regione          Nome  Anno inserimento  \\\n",
       "1758  GROSSETO  GROSSETO  Toscana  13 Gobbi Pub              2012   \n",
       "\n",
       "     Data e ora inserimento  Identificatore in OpenStreetMap  Longitudine  \\\n",
       "1758   2012-04-24T15:31:48Z                       1729090160    11.113976   \n",
       "\n",
       "      Latitudine  \n",
       "1758   42.759107  "
      ]
     },
     "execution_count": 33,
     "metadata": {},
     "output_type": "execute_result"
    }
   ],
   "source": [
    "df.sample(1) # riusciamo a stampare un elemento a caso? "
   ]
  },
  {
   "cell_type": "code",
   "execution_count": 98,
   "id": "7978a397-3aaa-427c-bbca-1656ec290a44",
   "metadata": {},
   "outputs": [
    {
     "data": {
      "text/plain": [
       "[2007, 2008, 2009, 2010, 2011, 2012, 2013, 2014, 2015, 2016]"
      ]
     },
     "execution_count": 98,
     "metadata": {},
     "output_type": "execute_result"
    }
   ],
   "source": [
    "# quali sono gli anni di inserimento presenti? \n",
    "sorted(df[\"Anno inserimento\"].unique())"
   ]
  },
  {
   "cell_type": "code",
   "execution_count": 122,
   "id": "71d796d6-d05f-42f5-b618-1189ae257073",
   "metadata": {},
   "outputs": [
    {
     "data": {
      "text/plain": [
       "Latitudine  Longitudine\n",
       "45.019720   9.237156       1\n",
       "45.066615   9.949613       1\n",
       "45.075478   9.309539       1\n",
       "45.100035   9.929070       2\n",
       "45.146084   9.997784       1\n",
       "                          ..\n",
       "45.886770   9.949574       1\n",
       "45.911138   9.131320       1\n",
       "45.935332   9.472043       1\n",
       "45.990050   9.681540       1\n",
       "45.993952   9.031698       1\n",
       "Length: 302, dtype: int64"
      ]
     },
     "execution_count": 122,
     "metadata": {},
     "output_type": "execute_result"
    }
   ],
   "source": [
    "# quante attività ci sono nel quadrato di longitudine 9-10 e latitudine 45-46?\n",
    "quadrato = df[(df[\"Longitudine\"] >= 9) & (df[\"Longitudine\"] <= 10) &\n",
    "           (df[\"Latitudine\"] >= 45) & (df[\"Latitudine\"] <= 46)] \n",
    "count = (quadrato.groupby([\"Latitudine\",\"Longitudine\"])).size()\n",
    "count"
   ]
  },
  {
   "cell_type": "code",
   "execution_count": 82,
   "id": "fbc0e394-6684-493d-b77a-3af383b5e699",
   "metadata": {},
   "outputs": [
    {
     "data": {
      "text/plain": [
       "Provincia\n",
       "VICENZA    73\n",
       "dtype: int64"
      ]
     },
     "execution_count": 82,
     "metadata": {},
     "output_type": "execute_result"
    }
   ],
   "source": [
    "# quante attività ci sono nella provincia di Vicenza? \n",
    "filtro_VI = df[(df[\"Provincia\"] == \"VICENZA\")] \n",
    "count = (filtro_VI.groupby([\"Provincia\"])).size()\n",
    "count"
   ]
  },
  {
   "cell_type": "code",
   "execution_count": 116,
   "id": "9ed269fe-d7fd-41e9-862c-3873401cc49f",
   "metadata": {},
   "outputs": [
    {
     "name": "stdout",
     "output_type": "stream",
     "text": [
      "Enoteche totali: 6\n"
     ]
    },
    {
     "data": {
      "text/plain": [
       "64      Enoteca con Cucina\"\"Tirolin\"\"\n",
       "496                 Concordia Enoteca\n",
       "1003                  Enoteca Umberto\n",
       "1491          Enoteca \"\"Al Brindisi\"\"\n",
       "1492           Enoteca \"\"da Massimo\"\"\n",
       "1723         Enoteca Il Violino Rosso\n",
       "Name: Nome, dtype: string"
      ]
     },
     "metadata": {},
     "output_type": "display_data"
    }
   ],
   "source": [
    "# quante enoteche ci sono, e come si chiamano?\n",
    "df[\"Nome\"] = df[\"Nome\"]\n",
    "eno_filter = df[\"Nome\"].str.lower().str.contains(\"enoteca\")\n",
    "print(\"Enoteche totali:\", len(df[ eno_filter ]))\n",
    "display(df[ eno_filter ].Nome)"
   ]
  },
  {
   "cell_type": "code",
   "execution_count": 124,
   "id": "2c65be33-775b-436e-8372-78b59b03124c",
   "metadata": {},
   "outputs": [
    {
     "name": "stdout",
     "output_type": "stream",
     "text": [
      "Attivita' nel Lazio e Abruzzo: 337\n"
     ]
    }
   ],
   "source": [
    "# quante attività ci sono in Lazio e Abruzzo assieme?\n",
    "print(\"Attivita' nel Lazio e Abruzzo:\", len(df[ (df[\"Regione\"] == \"Lazio\") |(df[\"Regione\"] == \"Abruzzo\")])) "
   ]
  }
 ],
 "metadata": {
  "kernelspec": {
   "display_name": "Python [conda env:base] *",
   "language": "python",
   "name": "conda-base-py"
  },
  "language_info": {
   "codemirror_mode": {
    "name": "ipython",
    "version": 3
   },
   "file_extension": ".py",
   "mimetype": "text/x-python",
   "name": "python",
   "nbconvert_exporter": "python",
   "pygments_lexer": "ipython3",
   "version": "3.12.7"
  }
 },
 "nbformat": 4,
 "nbformat_minor": 5
}

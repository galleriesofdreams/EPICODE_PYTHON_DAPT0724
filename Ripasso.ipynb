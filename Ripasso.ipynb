{
 "cells": [
  {
   "cell_type": "code",
   "execution_count": 5,
   "id": "9357fbac-b1d0-4ba8-84c7-6d728635403f",
   "metadata": {},
   "outputs": [
    {
     "data": {
      "text/plain": [
       "[0, 1, 2, 3, 4, 5, 6, 7, 8, 9, 10, 11, 12, 13, 14]"
      ]
     },
     "execution_count": 5,
     "metadata": {},
     "output_type": "execute_result"
    }
   ],
   "source": [
    "list(range(15))"
   ]
  },
  {
   "cell_type": "code",
   "execution_count": 7,
   "id": "bf75b8ac-4d1e-47ba-afd6-40a92e9b7d79",
   "metadata": {},
   "outputs": [
    {
     "data": {
      "text/plain": [
       "[3, 4, 5, 6, 7, 8, 9, 10, 11, 12, 13, 14]"
      ]
     },
     "execution_count": 7,
     "metadata": {},
     "output_type": "execute_result"
    }
   ],
   "source": [
    "list(range(3, 15))"
   ]
  },
  {
   "cell_type": "code",
   "execution_count": 9,
   "id": "21c876f4-aee8-4d46-805c-7aab8b14e86b",
   "metadata": {},
   "outputs": [
    {
     "data": {
      "text/plain": [
       "[2, 4, 6, 8, 10, 12, 14]"
      ]
     },
     "execution_count": 9,
     "metadata": {},
     "output_type": "execute_result"
    }
   ],
   "source": [
    "list(range(2, 15, 2))"
   ]
  },
  {
   "cell_type": "code",
   "execution_count": 11,
   "id": "7e553b2f-bb68-4ed4-900c-b0b64bcd1617",
   "metadata": {},
   "outputs": [
    {
     "data": {
      "text/plain": [
       "[5, 4, 3, 2, 1]"
      ]
     },
     "execution_count": 11,
     "metadata": {},
     "output_type": "execute_result"
    }
   ],
   "source": [
    "list(range(5, 0, -1))"
   ]
  },
  {
   "cell_type": "code",
   "execution_count": 32,
   "id": "2cfa6532-dc48-4c55-b0cf-f087e39cbf81",
   "metadata": {},
   "outputs": [],
   "source": [
    "libri = [\"enciclopedia\",\"atlante\",\"dizionario\"]"
   ]
  },
  {
   "cell_type": "code",
   "execution_count": 36,
   "id": "e30084f1-42cb-4a22-81fa-0adb2e478edc",
   "metadata": {},
   "outputs": [
    {
     "name": "stdout",
     "output_type": "stream",
     "text": [
      "enciclopedia\n",
      "atlante\n",
      "dizionario\n",
      "0 enciclopedia\n",
      "1 atlante\n",
      "2 dizionario\n"
     ]
    }
   ],
   "source": [
    "for libro in libri:\n",
    "\tprint(libro)\n",
    "for contatore, libro in enumerate(libri):\n",
    "    print(contatore, libro)"
   ]
  },
  {
   "cell_type": "code",
   "execution_count": 40,
   "id": "6da3ba4a-419d-4027-ba01-8909f1cf0960",
   "metadata": {},
   "outputs": [
    {
     "name": "stdout",
     "output_type": "stream",
     "text": [
      "Lucio frequenta ingegneria e ha 19 anni.\n",
      "\n",
      "Silvio frequenta medicina e ha 22 anni.\n",
      "\n",
      "Michela frequenta cinema e ha 25 anni.\n",
      "\n",
      "Natalia frequenta giurisprudenza e ha 21 anni.\n",
      "\n"
     ]
    }
   ],
   "source": [
    "alunni = [\"Lucio\", \"Silvio\", \"Michela\", \"Natalia\"]\n",
    "corsi = [\"ingegneria\", \"medicina\", \"cinema\", \"giurisprudenza\"] \n",
    "anni = [19, 22, 25, 21]\n",
    "for alunno, corso, eta in zip(alunni, corsi, anni):\n",
    "\tprint(alunno, \"frequenta\", corso, \n",
    "     \"e ha\", eta, \"anni.\\n\")"
   ]
  },
  {
   "cell_type": "code",
   "execution_count": 69,
   "id": "35459232-06f4-4f58-8b56-399fe9898502",
   "metadata": {},
   "outputs": [
    {
     "name": "stdin",
     "output_type": "stream",
     "text": [
      "Inserisci un numero 5\n",
      "Inserisci un numero 89\n",
      "Inserisci un numero 459\n"
     ]
    },
    {
     "name": "stdout",
     "output_type": "stream",
     "text": [
      "Hai inserito I numeri: [5, 89]\n"
     ]
    }
   ],
   "source": [
    "numeri = []\n",
    "\n",
    "while True:\n",
    "    numero = int(input(\"Inserisci un numero\"))\n",
    "    if numero > 100:\n",
    "        break\n",
    "    else:\n",
    "        numeri.append(numero)\n",
    "\n",
    "print(\"Hai inserito I numeri:\", numeri)"
   ]
  },
  {
   "cell_type": "code",
   "execution_count": 81,
   "id": "19458f59-be22-48b4-9941-37a02860dd37",
   "metadata": {},
   "outputs": [
    {
     "name": "stdin",
     "output_type": "stream",
     "text": [
      "inserisci il nome di un tuo amico. per terminare, scrivi 'finito' monica\n",
      "inserisci il nome di un tuo amico. per terminare, scrivi 'finito' finito\n"
     ]
    },
    {
     "name": "stdout",
     "output_type": "stream",
     "text": [
      "i tuoi amici sono ['monica']\n"
     ]
    }
   ],
   "source": [
    "amici = []\n",
    "while True:\n",
    "    dato = input(\"inserisci il nome di un tuo amico. per terminare, scrivi 'finito'\")\n",
    "    if dato == \"finito\":\n",
    "        break\n",
    "    else:\n",
    "        amici.append(dato)\n",
    "if len(amici) == 0:\n",
    "    print(\"non hai amici\")\n",
    "else:\n",
    "    print(\"i tuoi amici sono\",amici)"
   ]
  },
  {
   "cell_type": "code",
   "execution_count": 1,
   "id": "996b5a86-ae87-471a-abfc-f163be98bbb3",
   "metadata": {},
   "outputs": [
    {
     "name": "stdout",
     "output_type": "stream",
     "text": [
      "1\n",
      "3\n",
      "5\n",
      "7\n",
      "9\n",
      "11\n",
      "13\n",
      "15\n",
      "17\n",
      "19\n"
     ]
    }
   ],
   "source": [
    "numero = 0\n",
    "while numero < 20:\n",
    "    numero += 1\n",
    "    if numero % 2 == 0:\n",
    "        continue\n",
    "    else:\n",
    "        print(numero)"
   ]
  },
  {
   "cell_type": "code",
   "execution_count": 3,
   "id": "cd6ee1fc-dd18-4224-a67c-53e23fbeb3b3",
   "metadata": {},
   "outputs": [],
   "source": [
    "proventi = [100, 200, 300, 400, 100, 500, 600, 400, 300, 100, 100] \n",
    "date = [\"Luglio 2021\", \"Agosto 2023\", \"Maggio 2020\", \"Agosto 2021\", \"Marzo 2023\", \"Agosto 2022\", \"Gennaio 2021\", \"Aprile 2023\", \"Agosto 2020\", \"Marzo 2022\", \"Gennaio 2022\"]"
   ]
  },
  {
   "cell_type": "code",
   "execution_count": null,
   "id": "07f10183-74cc-456c-9523-e9465f65ad5f",
   "metadata": {},
   "outputs": [],
   "source": [
    "for cifra, data in zip(proventi, date)"
   ]
  }
 ],
 "metadata": {
  "kernelspec": {
   "display_name": "Python [conda env:base] *",
   "language": "python",
   "name": "conda-base-py"
  },
  "language_info": {
   "codemirror_mode": {
    "name": "ipython",
    "version": 3
   },
   "file_extension": ".py",
   "mimetype": "text/x-python",
   "name": "python",
   "nbconvert_exporter": "python",
   "pygments_lexer": "ipython3",
   "version": "3.12.7"
  }
 },
 "nbformat": 4,
 "nbformat_minor": 5
}
